{
 "cells": [
  {
   "cell_type": "markdown",
   "metadata": {},
   "source": [
    "---\n",
    "syncID: \n",
    "title: \"Querying Taxonomy Data with NEON API and Python\"\n",
    "description: \"Querying the 'taxonomy/' NEON API endpoint with Python and navigating the response\"\n",
    "dateCreated: 2020-04-24\n",
    "authors: Maxwell J. Burner\n",
    "contributors: \n",
    "estimatedTime:\n",
    "packagesLibraries: requests, json\n",
    "topics: api\n",
    "languagesTool: python\n",
    "dataProduct:\n",
    "code1: \n",
    "tutorialSeries: python-neon-api-series\n",
    "urlTitle: neon_api_taxonomy\n",
    "---"
   ]
  },
  {
   "cell_type": "markdown",
   "metadata": {},
   "source": [
    "In this tutorial we will learn to query the *taxonomy/* endpoint of the NEON API using Python."
   ]
  },
  {
   "cell_type": "markdown",
   "metadata": {},
   "source": [
    "<div id=\"ds-objectives\" markdown=\"1\">\n",
    "\n",
    "### Objectives\n",
    "After completing this tutorial, you will be able to:\n",
    "\n",
    "* Query the taxonomy endpoint of the NEON API to obtain taxonomic data\n",
    "* Search NEON taxonomic data using different criteria\n",
    "* Use the various options of the taxonomy endpoint to customized the results of a call\n",
    "* Navigate the data returned by a call to the taxonomy endpoint of the NEON API\n",
    "* Navigate the parent-child relationships between NEON locations\n",
    "\n",
    "\n",
    "### Install Python Packages\n",
    "\n",
    "* **requests**\n",
    "* **json** \n",
    "\n",
    "\n",
    "\n",
    "</div>"
   ]
  },
  {
   "cell_type": "markdown",
   "metadata": {},
   "source": [
    "In this tutorial we will learn to use Python and the *taxonomy/* endpoint of the NEON API to query information from NEON's taxonomic data. NEON maintains a great deal of taxonomic data, used in species identification during field research. NEON taxonomy data can be obtained through the API, or through an interactive interface called the [Taxon Viewer](http://data.neonscience.org/static/taxon.html).\n",
    "\n",
    "NEON taxonomy data includes \n"
   ]
  },
  {
   "cell_type": "markdown",
   "metadata": {},
   "source": [
    "## Making the Request\n",
    "\n",
    "Unlike other endpoints, the *locations/* endpoint does not take a single target in its URL. Instead, the query can make use of a number of different options, which are named and assigend values in the url. Each option is assigned a value with an equals, for example 'family=Pineceae'; these are placed after a '?' at the end of the URL, linked to each other by '&' signs.\n",
    "\n",
    "Each call must have one of the following options, but cannot use multiple:\n",
    "* **taxonTypeCode**, a four-letter that indicates which NEON taxonomy is being queried, such as FISH or BIRD\n",
    "* One of the major taxonomic ranks from genus through kingdom\n",
    "* **scientificName** a specific name of format genus + specific epithet + (authority); this is used to search for one exact results\n",
    "\n",
    "In addition, any number of the following options can also be added to modify the results of the query:\n",
    "* **verbose** takes a 'true' for a more detailed response or 'false' for a shorter response\n",
    "* **offset** takes an integer indicating the number of starting rows of the list of results to skip; the default is 50\n",
    "* **limit** takes an integer indicating the maximum length of the list returned; the default is 50\n",
    "\n",
    "Let's request data on up to 20 members of the Pine family, skipping none, with the short response."
   ]
  },
  {
   "cell_type": "code",
   "execution_count": 12,
   "metadata": {},
   "outputs": [],
   "source": [
    "import requests\n",
    "import json"
   ]
  },
  {
   "cell_type": "code",
   "execution_count": 13,
   "metadata": {},
   "outputs": [],
   "source": [
    "#Choose values for each option\n",
    "SERVER = 'http://data.neonscience.org/api/v0/'\n",
    "FAMILY = 'Pinaceae'\n",
    "OFFSET = 0\n",
    "LIMIT = 20\n",
    "VERBOSE = 'false'"
   ]
  },
  {
   "cell_type": "code",
   "execution_count": 14,
   "metadata": {},
   "outputs": [
    {
     "name": "stdout",
     "output_type": "stream",
     "text": [
      "?family=Pinaceae&offset=0&limit=20&verbose=false\n"
     ]
    }
   ],
   "source": [
    "#Create 'options' portion of API call\n",
    "OPTIONS = '?family={family}&offset={offset}&limit={limit}&verbose={verbose}'.format(\n",
    "    family = FAMILY,\n",
    "    offset = OFFSET,\n",
    "    limit = LIMIT,\n",
    "    verbose = VERBOSE)\n",
    "print(OPTIONS)"
   ]
  },
  {
   "cell_type": "code",
   "execution_count": 15,
   "metadata": {},
   "outputs": [],
   "source": [
    "#Make request\n",
    "pine_req = requests.get(SERVER+'taxonomy/'+OPTIONS)\n",
    "pine_json = pine_req.json()"
   ]
  },
  {
   "cell_type": "markdown",
   "metadata": {},
   "source": [
    "## Navigating the Response"
   ]
  },
  {
   "cell_type": "markdown",
   "metadata": {},
   "source": [
    "As with other responses to API calls, the taxonomy JSON at the uppermost level is a dictionary containing only an element with the 'data' label. Within this, the data is list with entries for each species returned by the call. Each species entry is a dictionary with atttributes for:\n",
    "\n",
    "- The full taxonomy, with a seperate attribute for each taxonomic level\n",
    "- The NEON taxonomy the data was obtained from (taxonTypeCode)\n",
    "- The short taxon code used by NEON (taxonID, acceptedTaxonID)\n",
    "- The author of the scientific name\n",
    "- The common/vernbacular name, if any\n",
    "- The reference text used (nameAccordingToID)"
   ]
  },
  {
   "cell_type": "code",
   "execution_count": 16,
   "metadata": {},
   "outputs": [
    {
     "name": "stdout",
     "output_type": "stream",
     "text": [
      "               taxonTypeCode:                  PLANT\n",
      "                     taxonID:                   ABFI\n",
      "             acceptedTaxonID:                   ABFI\n",
      "          dwc:scientificName:   Abies firma Siebold & Zucc.\n",
      "dwc:scientificNameAuthorship:        Siebold & Zucc.\n",
      "               dwc:taxonRank:                species\n",
      "          dwc:vernacularName:               Momi fir\n",
      "       dwc:nameAccordingToID:   http://plants.usda.gov (accessed 8/25/2014)\n",
      "                 dwc:kingdom:                Plantae\n",
      "                  dwc:phylum:          Coniferophyta\n",
      "                   dwc:class:              Pinopsida\n",
      "                   dwc:order:                Pinales\n",
      "                  dwc:family:               Pinaceae\n",
      "                   dwc:genus:                  Abies\n",
      "             gbif:subspecies:                   None\n",
      "                gbif:variety:                   None\n"
     ]
    }
   ],
   "source": [
    "#Print data for one species in the result\n",
    "sample = pine_json['data'][7]\n",
    "for key in sample.keys():\n",
    "    print(\"%28s:   %20s\" % (key, sample[key]))"
   ]
  },
  {
   "cell_type": "markdown",
   "metadata": {},
   "source": [
    "The \"dwc\" at the beginning of many atttribute names indicates that the terms used for each field are matched to those used by Darwin Core, an official standard maintained for biodiversity reference."
   ]
  },
  {
   "cell_type": "code",
   "execution_count": 17,
   "metadata": {},
   "outputs": [
    {
     "name": "stdout",
     "output_type": "stream",
     "text": [
      "silver fir | Abies alba Mill.\n",
      "Pacific silver fir | Abies amabilis (Douglas ex Loudon) Douglas ex Forbes\n",
      "balsam fir | Abies balsamea (L.) Mill.\n",
      "balsam fir | Abies balsamea (L.) Mill. var. balsamea\n",
      "balsam fir | Abies balsamea (L.) Mill. var. phanerolepis Fernald\n",
      "bristlecone fir | Abies bracteata (D. Don) D. Don ex Poit.\n",
      "white fir | Abies concolor (Gord. & Glend.) Lindl. ex Hildebr.\n",
      "Momi fir | Abies firma Siebold & Zucc.\n",
      "Fraser fir | Abies fraseri (Pursh) Poir.\n",
      "grand fir | Abies grandis (Douglas ex D. Don) Lindl.\n",
      "Nikko fir | Abies homolepis Siebold & Zucc.\n",
      "fir | Abies sp.\n",
      "fir | Abies spp.\n",
      "subalpine fir | Abies lasiocarpa (Hook.) Nutt.\n",
      "corkbark fir | Abies lasiocarpa (Hook.) Nutt. var. arizonica (Merriam) Lemmon\n",
      "subalpine fir | Abies lasiocarpa (Hook.) Nutt. var. lasiocarpa\n",
      "Sierra white fir | Abies lowiana (Gordon & Glend.) A. Murray bis\n",
      "California red fir | Abies magnifica A. Murray bis\n",
      "California red fir | Abies magnifica A. Murray bis var. magnifica\n",
      "Shasta red fir | Abies magnifica A. Murray bis var. shastensis Lemmon\n"
     ]
    }
   ],
   "source": [
    "#Print vernacular and species names\n",
    "for species in pine_json['data']:\n",
    "    print(species['dwc:vernacularName'],'|',species['dwc:scientificName'])"
   ]
  },
  {
   "cell_type": "markdown",
   "metadata": {},
   "source": [
    "## Using Taxon Type Code"
   ]
  },
  {
   "cell_type": "markdown",
   "metadata": {},
   "source": [
    "Let's try another, using taxonTypeCode this time. We'll look through some of the NEON Fish Taxonomy, but try the verbose description."
   ]
  },
  {
   "cell_type": "code",
   "execution_count": 18,
   "metadata": {},
   "outputs": [],
   "source": [
    "#Set options\n",
    "SERVER = 'http://data.neonscience.org/api/v0/'\n",
    "TAXONCODE = 'FISH'\n",
    "OFFSET = 0\n",
    "LIMIT = 20\n",
    "VERBOSE = 'true'"
   ]
  },
  {
   "cell_type": "code",
   "execution_count": 19,
   "metadata": {},
   "outputs": [
    {
     "name": "stdout",
     "output_type": "stream",
     "text": [
      "?taxonTypeCode=FISH&offset=0&limit=20&verbose=true\n"
     ]
    }
   ],
   "source": [
    "#Create 'options' portion of API call\n",
    "OPTIONS = '?taxonTypeCode={taxoncode}&offset={offset}&limit={limit}&verbose={verbose}'.format(\n",
    "    taxoncode = TAXONCODE,\n",
    "    offset = OFFSET,\n",
    "    limit = LIMIT,\n",
    "    verbose = VERBOSE)\n",
    "print(OPTIONS)"
   ]
  },
  {
   "cell_type": "code",
   "execution_count": 20,
   "metadata": {},
   "outputs": [],
   "source": [
    "#Make request\n",
    "fish_req = requests.get(SERVER+'taxonomy/'+OPTIONS)\n",
    "fish_json = fish_req.json()"
   ]
  },
  {
   "cell_type": "code",
   "execution_count": 21,
   "metadata": {},
   "outputs": [
    {
     "name": "stdout",
     "output_type": "stream",
     "text": [
      "               taxonTypeCode:                   FISH\n",
      "                     taxonID:                 ACHSPP\n",
      "             acceptedTaxonID:                 ACHSPP\n",
      "          dwc:scientificName:         Achiridae spp.\n",
      "dwc:scientificNameAuthorship:                   None\n",
      "               dwc:taxonRank:                 family\n",
      "          dwc:vernacularName:                   None\n",
      "       taxonProtocolCategory:                 target\n",
      "       dwc:nameAccordingToID:   http://www.itis.gov/ITISWebService/services/ITISService/getFullRecordFromTSN?tsn=202070 (accessed 08/31/2017)\n",
      "    dwc:nameAccordingToTitle:   The Integrated Taxonomic Information System on-line database http://www.itis.gov/ITISWebService/services/ITISService/getFullRecordFromTSN?tsn=202070, accessed 31 Aug 2017\n",
      "                 dwc:kingdom:               Animalia\n",
      "             gbif:subkingdom:                   None\n",
      "           gbif:infrakingdom:                   None\n",
      "          gbif:superdivision:                   None\n",
      "               gbif:division:                   None\n",
      "            gbif:subdivision:                   None\n",
      "          gbif:infradivision:                   None\n",
      "           gbif:parvdivision:                   None\n",
      "            gbif:superphylum:                   None\n",
      "                  dwc:phylum:               Chordata\n",
      "              gbif:subphylum:                   None\n",
      "            gbif:infraphylum:                   None\n",
      "             gbif:superclass:                   None\n",
      "                   dwc:class:         Actinopterygii\n",
      "               gbif:subclass:                   None\n",
      "             gbif:infraclass:                   None\n",
      "             gbif:superorder:                   None\n",
      "                   dwc:order:      Pleuronectiformes\n",
      "               gbif:suborder:                   None\n",
      "             gbif:infraorder:                   None\n",
      "                gbif:section:                   None\n",
      "             gbif:subsection:                   None\n",
      "            gbif:superfamily:                   None\n",
      "                  dwc:family:              Achiridae\n",
      "              gbif:subfamily:                   None\n",
      "                  gbif:tribe:                   None\n",
      "               gbif:subtribe:                   None\n",
      "                   dwc:genus:                   None\n",
      "                dwc:subgenus:                   None\n",
      "             gbif:subspecies:                   None\n",
      "                gbif:variety:                   None\n",
      "             gbif:subvariety:                   None\n",
      "                   gbif:form:                   None\n",
      "                gbif:subform:                   None\n",
      "                speciesGroup:                   None\n",
      "         dwc:specificEpithet:                   spp.\n",
      "    dwc:infraspecificEpithet:                   None\n"
     ]
    }
   ],
   "source": [
    "#Print data for one species in the result\n",
    "sample = fish_json['data'][7]\n",
    "for key in sample.keys():\n",
    "    print(\"%28s:   %20s\" % (key, sample[key]))"
   ]
  },
  {
   "cell_type": "markdown",
   "metadata": {},
   "source": [
    "This is a more verbose entry, so there are more attributes, though many lack values. The 'gbif' attributes indicate terms matched to those used by the Global Biodiversity Forum."
   ]
  },
  {
   "cell_type": "code",
   "execution_count": 11,
   "metadata": {},
   "outputs": [
    {
     "name": "stdout",
     "output_type": "stream",
     "text": [
      "None | Acanthogobius flavimanus\n",
      "None | Acantharchus pomotis\n",
      "None | Acantharchus sp.\n",
      "None | Acanthogobius sp.\n",
      "None | Acantharchus spp.\n",
      "None | Acanthogobius spp.\n",
      "None | Achiridae sp.\n",
      "None | Achiridae spp.\n",
      "None | Acipenser brevirostrum\n",
      "None | Acipenser fulvescens\n",
      "None | Acipenser medirostris\n",
      "None | Acipenser oxyrinchus\n",
      "Gulf Sturgeon | Acipenser oxyrinchus desotoi\n",
      "Atlantic sturgeon | Acipenser oxyrinchus oxyrinchus\n",
      "Gulf Sturgeon | Acipenser oxyrhynchus desotoi\n",
      "None | Acipenser oxyrhynchus\n",
      "None | Acipenser sp.\n",
      "None | Acipenseridae sp.\n",
      "None | Acipenseriformes sp.\n",
      "None | Acipenser spp.\n"
     ]
    }
   ],
   "source": [
    "#Print common and scientific name for each fish\n",
    "for species in fish_json['data']:\n",
    "    print(species['dwc:vernacularName'],'|', species['dwc:scientificName'])"
   ]
  }
 ],
 "metadata": {
  "kernelspec": {
   "display_name": "Python 3",
   "language": "python",
   "name": "python3"
  },
  "language_info": {
   "codemirror_mode": {
    "name": "ipython",
    "version": 3
   },
   "file_extension": ".py",
   "mimetype": "text/x-python",
   "name": "python",
   "nbconvert_exporter": "python",
   "pygments_lexer": "ipython3",
   "version": "3.8.2"
  }
 },
 "nbformat": 4,
 "nbformat_minor": 4
}
