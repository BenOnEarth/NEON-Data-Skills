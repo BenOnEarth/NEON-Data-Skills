{
 "cells": [
  {
   "cell_type": "markdown",
   "metadata": {},
   "source": [
    "---\n",
    "syncID: \n",
    "title: \"Stacking and Joining NEON Data with Python\"\n",
    "description: \"\"\n",
    "dateCreated: 2020-05-07\n",
    "authors: Maxwell J. Burner\n",
    "contributors: Donal O'Leary\n",
    "estimatedTime: \n",
    "packagesLibraries: requests, json, pandas\n",
    "topics: api, data management, reshaping data\n",
    "languagesTool: python\n",
    "dataProduct: DP1.10003.001\n",
    "code1: \n",
    "tutorialSeries: python-neon-api-series\n",
    "urlTitle: python-neon-api-06-stacking\n",
    "---"
   ]
  },
  {
   "cell_type": "markdown",
   "metadata": {},
   "source": [
    "In this tutorial we will learn how to stack and join NEON data tables using the Panda's library."
   ]
  },
  {
   "cell_type": "markdown",
   "metadata": {},
   "source": [
    "<div id=\"ds-objectives\" markdown=\"1\">\n",
    "\n",
    "### Objectives\n",
    "After completing this tutorial, you will be able to:\n",
    "\n",
    "* Combine NEON data tables from different sites and months using Pandas *concat* function\n",
    "* Describe the difference between inner joins, left outer joins, right outer joins, and full outer joins\n",
    "* Combine NEON data tables of different types using Pandas *merge* method\n",
    "\n",
    "\n",
    "### Install Python Packages\n",
    "\n",
    "* **requests**\n",
    "* **json** \n",
    "* **pandas**\n",
    "\n",
    "\n",
    "</div>"
   ]
  },
  {
   "cell_type": "markdown",
   "metadata": {},
   "source": [
    "In this tutorial we will learn how to combine different two or more tables loaded as Python dataframes into one. The NEON API returns data in seperate tables for each month and site. Furthermore, a data product package for one site and month usually includes mutiple tables, related to each other but storing different variables. \n",
    "\n",
    "As a result, the data we want for a particular study may be spread across multiple tables. In order to effectively manipulate our data in Python, we will usually want to combine these tables into one. When combining data tables of the same type aross different months or sites, we often call this process *stacking*. When combining tables of different types, we call this *joining*..\n",
    "\n",
    "Luckily, the Pandas package includes functions and methods for both *stacking* and *joining*  data frames. Here we will discuss stacking data frames using a fairly simple concatenation method, and the more complex subject of joining dataframes. For our examples, we will again use breeding landbird count data from NEON's lower Teakettle site."
   ]
  },
  {
   "cell_type": "code",
   "execution_count": 1,
   "metadata": {},
   "outputs": [],
   "source": [
    "import requests\n",
    "import json\n",
    "import pandas as pd"
   ]
  },
  {
   "cell_type": "code",
   "execution_count": 2,
   "metadata": {},
   "outputs": [],
   "source": [
    "SERVER = 'http://data.neonscience.org/api/v0/'\n",
    "SITECODE = 'TEAK'\n",
    "PRODUCTCODE = 'DP1.10003.001'"
   ]
  },
  {
   "cell_type": "markdown",
   "metadata": {},
   "source": [
    "## Stacking tables\n",
    "\n",
    "As we have seen, NEON stores data of the same type in seperate tables by site and month. But what if we want data spanning multiple months, or from multiple sampling sites? If the data tables are of the same 'type' - such as basic package bird count data - they will have the same columns and headers, so we can simply combine rows from multiple tables into one.\n",
    "\n",
    "From our first tutorial, we know that bird count data taken at Lower Teakettle is available for several months, including both June and July of 2019. For our example here, we will merge the basic bird count data tables for those two months into one."
   ]
  },
  {
   "cell_type": "code",
   "execution_count": 3,
   "metadata": {},
   "outputs": [],
   "source": [
    "#Define a function that takes a 'data/' endpoint json and downloads a csv file from it based on provided strings\n",
    "#Input: A json with results of a NEON 'data/' endpoint API search, two strings indicating file name\n",
    "#Output: A pandas dataframe\n",
    "def get_data(data_json, string1, string2 = ''):\n",
    "    for file in data_json['data']['files']:\n",
    "        if(string1 in file['name']):\n",
    "            if(string2 in file['name']):\n",
    "                return pd.read_csv(file['url'])\n",
    "    print('No files matching name')\n",
    "    return(0)\n",
    " "
   ]
  },
  {
   "cell_type": "code",
   "execution_count": 4,
   "metadata": {},
   "outputs": [],
   "source": [
    "#Request information on data\n",
    "june_req = requests.get(SERVER+'data/'+PRODUCTCODE+'/'+SITECODE+'/'+'2019-06')\n",
    "july_req = requests.get(SERVER+'data/'+PRODUCTCODE+'/'+SITECODE+'/'+'2019-07')\n",
    "\n",
    "june_json = june_req.json()\n",
    "july_json = july_req.json()"
   ]
  },
  {
   "cell_type": "code",
   "execution_count": 5,
   "metadata": {},
   "outputs": [],
   "source": [
    "#Read in basic bird count data for June and July 2019 of lower Teakettle\n",
    "df_june_count = get_data(june_json, 'countdata', 'basic')\n",
    "df_july_count = get_data(july_json, 'countdata', 'basic')"
   ]
  },
  {
   "cell_type": "code",
   "execution_count": 6,
   "metadata": {},
   "outputs": [
    {
     "data": {
      "text/html": [
       "<div>\n",
       "<style scoped>\n",
       "    .dataframe tbody tr th:only-of-type {\n",
       "        vertical-align: middle;\n",
       "    }\n",
       "\n",
       "    .dataframe tbody tr th {\n",
       "        vertical-align: top;\n",
       "    }\n",
       "\n",
       "    .dataframe thead th {\n",
       "        text-align: right;\n",
       "    }\n",
       "</style>\n",
       "<table border=\"1\" class=\"dataframe\">\n",
       "  <thead>\n",
       "    <tr style=\"text-align: right;\">\n",
       "      <th></th>\n",
       "      <th>uid</th>\n",
       "      <th>namedLocation</th>\n",
       "      <th>domainID</th>\n",
       "      <th>siteID</th>\n",
       "      <th>plotID</th>\n",
       "      <th>plotType</th>\n",
       "      <th>pointID</th>\n",
       "      <th>startDate</th>\n",
       "      <th>eventID</th>\n",
       "      <th>pointCountMinute</th>\n",
       "      <th>...</th>\n",
       "      <th>scientificName</th>\n",
       "      <th>taxonRank</th>\n",
       "      <th>vernacularName</th>\n",
       "      <th>observerDistance</th>\n",
       "      <th>detectionMethod</th>\n",
       "      <th>visualConfirmation</th>\n",
       "      <th>sexOrAge</th>\n",
       "      <th>clusterSize</th>\n",
       "      <th>clusterCode</th>\n",
       "      <th>identifiedBy</th>\n",
       "    </tr>\n",
       "  </thead>\n",
       "  <tbody>\n",
       "    <tr>\n",
       "      <th>0</th>\n",
       "      <td>ddc3e9db-8d75-4447-8d29-4016cce4c3ee</td>\n",
       "      <td>TEAK_003.birdGrid.brd</td>\n",
       "      <td>D17</td>\n",
       "      <td>TEAK</td>\n",
       "      <td>TEAK_003</td>\n",
       "      <td>distributed</td>\n",
       "      <td>B3</td>\n",
       "      <td>2019-06-10T13Z</td>\n",
       "      <td>TEAK_003.B3.2019-06-10T05:45-07:00[US/Pacific]</td>\n",
       "      <td>5</td>\n",
       "      <td>...</td>\n",
       "      <td>Passerella iliaca</td>\n",
       "      <td>species</td>\n",
       "      <td>Fox Sparrow</td>\n",
       "      <td>108.0</td>\n",
       "      <td>singing</td>\n",
       "      <td>No</td>\n",
       "      <td>Unknown</td>\n",
       "      <td>1.0</td>\n",
       "      <td>NaN</td>\n",
       "      <td>JTIET</td>\n",
       "    </tr>\n",
       "    <tr>\n",
       "      <th>1</th>\n",
       "      <td>c1b322de-c2a7-41a3-b9c6-fa5dff60f8d3</td>\n",
       "      <td>TEAK_003.birdGrid.brd</td>\n",
       "      <td>D17</td>\n",
       "      <td>TEAK</td>\n",
       "      <td>TEAK_003</td>\n",
       "      <td>distributed</td>\n",
       "      <td>B3</td>\n",
       "      <td>2019-06-10T13Z</td>\n",
       "      <td>TEAK_003.B3.2019-06-10T05:45-07:00[US/Pacific]</td>\n",
       "      <td>1</td>\n",
       "      <td>...</td>\n",
       "      <td>Pipilo chlorurus</td>\n",
       "      <td>species</td>\n",
       "      <td>Green-tailed Towhee</td>\n",
       "      <td>58.0</td>\n",
       "      <td>singing</td>\n",
       "      <td>No</td>\n",
       "      <td>Unknown</td>\n",
       "      <td>1.0</td>\n",
       "      <td>NaN</td>\n",
       "      <td>JTIET</td>\n",
       "    </tr>\n",
       "    <tr>\n",
       "      <th>2</th>\n",
       "      <td>bbf5d4cb-6622-4f12-a062-5c83b24ce883</td>\n",
       "      <td>TEAK_003.birdGrid.brd</td>\n",
       "      <td>D17</td>\n",
       "      <td>TEAK</td>\n",
       "      <td>TEAK_003</td>\n",
       "      <td>distributed</td>\n",
       "      <td>B3</td>\n",
       "      <td>2019-06-10T13Z</td>\n",
       "      <td>TEAK_003.B3.2019-06-10T05:45-07:00[US/Pacific]</td>\n",
       "      <td>2</td>\n",
       "      <td>...</td>\n",
       "      <td>Catharus guttatus</td>\n",
       "      <td>species</td>\n",
       "      <td>Hermit Thrush</td>\n",
       "      <td>166.0</td>\n",
       "      <td>singing</td>\n",
       "      <td>No</td>\n",
       "      <td>Unknown</td>\n",
       "      <td>1.0</td>\n",
       "      <td>NaN</td>\n",
       "      <td>JTIET</td>\n",
       "    </tr>\n",
       "  </tbody>\n",
       "</table>\n",
       "<p>3 rows × 22 columns</p>\n",
       "</div>"
      ],
      "text/plain": [
       "                                    uid          namedLocation domainID  \\\n",
       "0  ddc3e9db-8d75-4447-8d29-4016cce4c3ee  TEAK_003.birdGrid.brd      D17   \n",
       "1  c1b322de-c2a7-41a3-b9c6-fa5dff60f8d3  TEAK_003.birdGrid.brd      D17   \n",
       "2  bbf5d4cb-6622-4f12-a062-5c83b24ce883  TEAK_003.birdGrid.brd      D17   \n",
       "\n",
       "  siteID    plotID     plotType pointID       startDate  \\\n",
       "0   TEAK  TEAK_003  distributed      B3  2019-06-10T13Z   \n",
       "1   TEAK  TEAK_003  distributed      B3  2019-06-10T13Z   \n",
       "2   TEAK  TEAK_003  distributed      B3  2019-06-10T13Z   \n",
       "\n",
       "                                          eventID  pointCountMinute  ...  \\\n",
       "0  TEAK_003.B3.2019-06-10T05:45-07:00[US/Pacific]                 5  ...   \n",
       "1  TEAK_003.B3.2019-06-10T05:45-07:00[US/Pacific]                 1  ...   \n",
       "2  TEAK_003.B3.2019-06-10T05:45-07:00[US/Pacific]                 2  ...   \n",
       "\n",
       "      scientificName taxonRank       vernacularName observerDistance  \\\n",
       "0  Passerella iliaca   species          Fox Sparrow            108.0   \n",
       "1   Pipilo chlorurus   species  Green-tailed Towhee             58.0   \n",
       "2  Catharus guttatus   species        Hermit Thrush            166.0   \n",
       "\n",
       "  detectionMethod  visualConfirmation sexOrAge clusterSize clusterCode  \\\n",
       "0         singing                  No  Unknown         1.0         NaN   \n",
       "1         singing                  No  Unknown         1.0         NaN   \n",
       "2         singing                  No  Unknown         1.0         NaN   \n",
       "\n",
       "   identifiedBy  \n",
       "0         JTIET  \n",
       "1         JTIET  \n",
       "2         JTIET  \n",
       "\n",
       "[3 rows x 22 columns]"
      ]
     },
     "execution_count": 6,
     "metadata": {},
     "output_type": "execute_result"
    }
   ],
   "source": [
    "#View first three rows of June data\n",
    "df_june_count.head(3)"
   ]
  },
  {
   "cell_type": "code",
   "execution_count": 7,
   "metadata": {},
   "outputs": [
    {
     "data": {
      "text/html": [
       "<div>\n",
       "<style scoped>\n",
       "    .dataframe tbody tr th:only-of-type {\n",
       "        vertical-align: middle;\n",
       "    }\n",
       "\n",
       "    .dataframe tbody tr th {\n",
       "        vertical-align: top;\n",
       "    }\n",
       "\n",
       "    .dataframe thead th {\n",
       "        text-align: right;\n",
       "    }\n",
       "</style>\n",
       "<table border=\"1\" class=\"dataframe\">\n",
       "  <thead>\n",
       "    <tr style=\"text-align: right;\">\n",
       "      <th></th>\n",
       "      <th>uid</th>\n",
       "      <th>namedLocation</th>\n",
       "      <th>domainID</th>\n",
       "      <th>siteID</th>\n",
       "      <th>plotID</th>\n",
       "      <th>plotType</th>\n",
       "      <th>pointID</th>\n",
       "      <th>startDate</th>\n",
       "      <th>eventID</th>\n",
       "      <th>pointCountMinute</th>\n",
       "      <th>...</th>\n",
       "      <th>scientificName</th>\n",
       "      <th>taxonRank</th>\n",
       "      <th>vernacularName</th>\n",
       "      <th>observerDistance</th>\n",
       "      <th>detectionMethod</th>\n",
       "      <th>visualConfirmation</th>\n",
       "      <th>sexOrAge</th>\n",
       "      <th>clusterSize</th>\n",
       "      <th>clusterCode</th>\n",
       "      <th>identifiedBy</th>\n",
       "    </tr>\n",
       "  </thead>\n",
       "  <tbody>\n",
       "    <tr>\n",
       "      <th>0</th>\n",
       "      <td>9d75150f-ac4f-4510-bc22-f09f1c466fb2</td>\n",
       "      <td>TEAK_008.birdGrid.brd</td>\n",
       "      <td>D17</td>\n",
       "      <td>TEAK</td>\n",
       "      <td>TEAK_008</td>\n",
       "      <td>distributed</td>\n",
       "      <td>A3</td>\n",
       "      <td>2019-07-01T12Z</td>\n",
       "      <td>TEAK_008.A3.2019-07-01T05:21-07:00[US/Pacific]</td>\n",
       "      <td>3</td>\n",
       "      <td>...</td>\n",
       "      <td>Turdus migratorius</td>\n",
       "      <td>species</td>\n",
       "      <td>American Robin</td>\n",
       "      <td>139.0</td>\n",
       "      <td>singing</td>\n",
       "      <td>No</td>\n",
       "      <td>Unknown</td>\n",
       "      <td>1.0</td>\n",
       "      <td>NaN</td>\n",
       "      <td>JTIET</td>\n",
       "    </tr>\n",
       "    <tr>\n",
       "      <th>1</th>\n",
       "      <td>0b727188-9e5e-466c-9d59-e91feaebd08b</td>\n",
       "      <td>TEAK_008.birdGrid.brd</td>\n",
       "      <td>D17</td>\n",
       "      <td>TEAK</td>\n",
       "      <td>TEAK_008</td>\n",
       "      <td>distributed</td>\n",
       "      <td>A3</td>\n",
       "      <td>2019-07-01T12Z</td>\n",
       "      <td>TEAK_008.A3.2019-07-01T05:21-07:00[US/Pacific]</td>\n",
       "      <td>3</td>\n",
       "      <td>...</td>\n",
       "      <td>Piranga ludoviciana</td>\n",
       "      <td>species</td>\n",
       "      <td>Western Tanager</td>\n",
       "      <td>128.0</td>\n",
       "      <td>calling</td>\n",
       "      <td>No</td>\n",
       "      <td>Unknown</td>\n",
       "      <td>1.0</td>\n",
       "      <td>NaN</td>\n",
       "      <td>JTIET</td>\n",
       "    </tr>\n",
       "    <tr>\n",
       "      <th>2</th>\n",
       "      <td>bc4ca781-9384-4a86-865a-7183be98b10c</td>\n",
       "      <td>TEAK_008.birdGrid.brd</td>\n",
       "      <td>D17</td>\n",
       "      <td>TEAK</td>\n",
       "      <td>TEAK_008</td>\n",
       "      <td>distributed</td>\n",
       "      <td>A3</td>\n",
       "      <td>2019-07-01T12Z</td>\n",
       "      <td>TEAK_008.A3.2019-07-01T05:21-07:00[US/Pacific]</td>\n",
       "      <td>2</td>\n",
       "      <td>...</td>\n",
       "      <td>Cyanocitta stelleri</td>\n",
       "      <td>species</td>\n",
       "      <td>Steller's Jay</td>\n",
       "      <td>119.0</td>\n",
       "      <td>calling</td>\n",
       "      <td>No</td>\n",
       "      <td>Unknown</td>\n",
       "      <td>1.0</td>\n",
       "      <td>NaN</td>\n",
       "      <td>JTIET</td>\n",
       "    </tr>\n",
       "  </tbody>\n",
       "</table>\n",
       "<p>3 rows × 22 columns</p>\n",
       "</div>"
      ],
      "text/plain": [
       "                                    uid          namedLocation domainID  \\\n",
       "0  9d75150f-ac4f-4510-bc22-f09f1c466fb2  TEAK_008.birdGrid.brd      D17   \n",
       "1  0b727188-9e5e-466c-9d59-e91feaebd08b  TEAK_008.birdGrid.brd      D17   \n",
       "2  bc4ca781-9384-4a86-865a-7183be98b10c  TEAK_008.birdGrid.brd      D17   \n",
       "\n",
       "  siteID    plotID     plotType pointID       startDate  \\\n",
       "0   TEAK  TEAK_008  distributed      A3  2019-07-01T12Z   \n",
       "1   TEAK  TEAK_008  distributed      A3  2019-07-01T12Z   \n",
       "2   TEAK  TEAK_008  distributed      A3  2019-07-01T12Z   \n",
       "\n",
       "                                          eventID  pointCountMinute  ...  \\\n",
       "0  TEAK_008.A3.2019-07-01T05:21-07:00[US/Pacific]                 3  ...   \n",
       "1  TEAK_008.A3.2019-07-01T05:21-07:00[US/Pacific]                 3  ...   \n",
       "2  TEAK_008.A3.2019-07-01T05:21-07:00[US/Pacific]                 2  ...   \n",
       "\n",
       "        scientificName taxonRank   vernacularName observerDistance  \\\n",
       "0   Turdus migratorius   species   American Robin            139.0   \n",
       "1  Piranga ludoviciana   species  Western Tanager            128.0   \n",
       "2  Cyanocitta stelleri   species    Steller's Jay            119.0   \n",
       "\n",
       "  detectionMethod  visualConfirmation sexOrAge clusterSize clusterCode  \\\n",
       "0         singing                  No  Unknown         1.0         NaN   \n",
       "1         calling                  No  Unknown         1.0         NaN   \n",
       "2         calling                  No  Unknown         1.0         NaN   \n",
       "\n",
       "   identifiedBy  \n",
       "0         JTIET  \n",
       "1         JTIET  \n",
       "2         JTIET  \n",
       "\n",
       "[3 rows x 22 columns]"
      ]
     },
     "execution_count": 7,
     "metadata": {},
     "output_type": "execute_result"
    }
   ],
   "source": [
    "#View first three rows of July count data\n",
    "df_july_count.head(3)"
   ]
  },
  {
   "cell_type": "code",
   "execution_count": 8,
   "metadata": {},
   "outputs": [
    {
     "name": "stdout",
     "output_type": "stream",
     "text": [
      "June rows and columns:  (1484, 22)\n",
      "July rows and columns:  (286, 22)\n"
     ]
    }
   ],
   "source": [
    "#View shape of each count data table\n",
    "print('June rows and columns: ',df_june_count.shape)\n",
    "print('July rows and columns: ',df_july_count.shape)"
   ]
  },
  {
   "cell_type": "markdown",
   "metadata": {},
   "source": [
    "The two dataframes have matching number of columns, column names, and column data types. We can directly combine them into one child table containing the rows of both parent tables using the Pandas *concat* function. This takes a list, tuple, or other sequence of data frames, and tries to combine them into one.\n",
    "\n",
    "The *concat* function can combine rows, concatenating along the index, or it can combine columns, concatenating along the header. Which approach is used is determined by the *axis* parameter; 0 for stacking rows, 1 for stacking columns. The default is 0, so in this case we don't have to specify."
   ]
  },
  {
   "cell_type": "code",
   "execution_count": 11,
   "metadata": {},
   "outputs": [
    {
     "name": "stdout",
     "output_type": "stream",
     "text": [
      "(1770, 22)\n"
     ]
    }
   ],
   "source": [
    "#Combine data frames along index\n",
    "df_concatenated = pd.concat((df_june_count, df_july_count))\n",
    "print(df_concatenated.shape)"
   ]
  },
  {
   "cell_type": "markdown",
   "metadata": {},
   "source": [
    "The new dataframe has 1770 rows, the sum of the 1484 rows from the June data and the 286 rows from the July data."
   ]
  },
  {
   "cell_type": "markdown",
   "metadata": {},
   "source": [
    "## Joining Tables\n",
    "\n",
    "At other times, the data we want may be spread across two or more related tables, each with different attributes. In this case we will want to **join** the tables together. Joining tables is an important concept in data sciene and analysis. Several different kinds of joins exist, depending on the relationship between the tables, how we want to handle unmatched data. \n",
    "\n",
    "The breeding land bird count data comes with several tables, including the 'Count Data' table (which contains all of the different individual bird observations and their taxonomic information) and the 'Point Data' table (which contains information about the point where the birds were observed (spatial information, vegetation type, etc.) as well as the observation conditions for the day (cloud cover, wind speed, relative humidity, etc.). In order to match up every bir observation with the location and conditions in which it was observed, we will need to join these two tables together.\n",
    "\n",
    "For this example, we will download the per point data for June as a dataframe, and join it with the count data for June. "
   ]
  },
  {
   "cell_type": "code",
   "execution_count": 12,
   "metadata": {},
   "outputs": [
    {
     "name": "stdout",
     "output_type": "stream",
     "text": [
      "(81, 27)\n"
     ]
    }
   ],
   "source": [
    "#Import basic package per point data into Python\n",
    "df_june_point = get_data(june_json, 'perpoint', 'basic')\n",
    "\n",
    "#View shape of new dataframe\n",
    "print(df_june_point.shape)"
   ]
  },
  {
   "cell_type": "code",
   "execution_count": 13,
   "metadata": {},
   "outputs": [
    {
     "name": "stdout",
     "output_type": "stream",
     "text": [
      "Count data\n",
      "uid                    object\n",
      "namedLocation          object\n",
      "domainID               object\n",
      "siteID                 object\n",
      "plotID                 object\n",
      "plotType               object\n",
      "pointID                object\n",
      "startDate              object\n",
      "eventID                object\n",
      "pointCountMinute        int64\n",
      "targetTaxaPresent      object\n",
      "taxonID                object\n",
      "scientificName         object\n",
      "taxonRank              object\n",
      "vernacularName         object\n",
      "observerDistance      float64\n",
      "detectionMethod        object\n",
      "visualConfirmation     object\n",
      "sexOrAge               object\n",
      "clusterSize           float64\n",
      "clusterCode            object\n",
      "identifiedBy           object\n",
      "dtype: object\n",
      "\n",
      "Point Data\n",
      "uid                            object\n",
      "namedLocation                  object\n",
      "domainID                       object\n",
      "siteID                         object\n",
      "plotID                         object\n",
      "plotType                       object\n",
      "pointID                        object\n",
      "nlcdClass                      object\n",
      "decimalLatitude               float64\n",
      "decimalLongitude              float64\n",
      "geodeticDatum                  object\n",
      "coordinateUncertainty         float64\n",
      "elevation                     float64\n",
      "elevationUncertainty          float64\n",
      "startDate                      object\n",
      "eventID                        object\n",
      "startCloudCoverPercentage       int64\n",
      "endCloudCoverPercentage         int64\n",
      "startRH                         int64\n",
      "endRH                           int64\n",
      "observedHabitat                object\n",
      "observedAirTemp                 int64\n",
      "kmPerHourObservedWindSpeed      int64\n",
      "laboratoryName                 object\n",
      "samplingProtocolVersion        object\n",
      "remarks                       float64\n",
      "measuredBy                     object\n",
      "dtype: object\n"
     ]
    }
   ],
   "source": [
    "#View columns of count data table\n",
    "print('Count data')\n",
    "print(df_june_count.dtypes)\n",
    "\n",
    "print('\\nPoint Data')\n",
    "print(df_june_point.dtypes)"
   ]
  },
  {
   "cell_type": "markdown",
   "metadata": {},
   "source": [
    "Notice that the countdata table and the perpoint table share a number of common columns/variables/attributes. We say that a *relationship* exists between these tables; data in a certain column of one table corresponds to data in a certain column of the other table. To join two tables, we select a pair of related columns from the tables to serve as the *keys* in the join.\n",
    "\n",
    "One of the columns present in both tables is 'eventID'. Do the values of this column in one table appear to correspond to those in the other table?"
   ]
  },
  {
   "cell_type": "code",
   "execution_count": 14,
   "metadata": {},
   "outputs": [
    {
     "name": "stdout",
     "output_type": "stream",
     "text": [
      "Point:  TEAK_003.B3.2019-06-10T05:45-07:00[US/Pacific] \tCount:  TEAK_003.B3.2019-06-10T05:45-07:00[US/Pacific]\n",
      "Point:  TEAK_003.B3.2019-06-10T05:45-07:00[US/Pacific] \tCount:  TEAK_003.A3.2019-06-10T06:03-07:00[US/Pacific]\n",
      "Point:  TEAK_003.B3.2019-06-10T05:45-07:00[US/Pacific] \tCount:  TEAK_003.A2.2019-06-10T06:20-07:00[US/Pacific]\n",
      "Point:  TEAK_003.B3.2019-06-10T05:45-07:00[US/Pacific] \tCount:  TEAK_003.B2.2019-06-10T06:36-07:00[US/Pacific]\n",
      "Point:  TEAK_003.B3.2019-06-10T05:45-07:00[US/Pacific] \tCount:  TEAK_003.A1.2019-06-10T06:53-07:00[US/Pacific]\n",
      "Point:  TEAK_003.B3.2019-06-10T05:45-07:00[US/Pacific] \tCount:  TEAK_003.B1.2019-06-10T07:09-07:00[US/Pacific]\n",
      "Point:  TEAK_003.B3.2019-06-10T05:45-07:00[US/Pacific] \tCount:  TEAK_003.C1.2019-06-10T07:25-07:00[US/Pacific]\n",
      "Point:  TEAK_003.B3.2019-06-10T05:45-07:00[US/Pacific] \tCount:  TEAK_003.C2.2019-06-10T07:40-07:00[US/Pacific]\n",
      "Point:  TEAK_003.B3.2019-06-10T05:45-07:00[US/Pacific] \tCount:  TEAK_031.C1.2019-06-10T07:54-07:00[US/Pacific]\n",
      "Point:  TEAK_003.B3.2019-06-10T05:45-07:00[US/Pacific] \tCount:  TEAK_003.C3.2019-06-10T07:56-07:00[US/Pacific]\n"
     ]
    }
   ],
   "source": [
    "#Print first ten rows of eventID column for each table\n",
    "for i in range(10):\n",
    "    print('Point: ',df_june_count['eventID'][i],'\\tCount: ' ,df_june_point['eventID'][i])"
   ]
  },
  {
   "cell_type": "markdown",
   "metadata": {},
   "source": [
    "It appears that it should be possible to match values between the two eventID columns; in fact, the two columns have idetnical first entries.\n",
    "\n",
    "If we are using just one key pair, we ideally want there to be no repeated values in the  key column of the table with fewer rows. This way, every row in the longer table matches to no more than one row in the shorter table.\n",
    "\n",
    "Here the shorter table is the perpoint data; let's see if the eventID attribute has only unique values."
   ]
  },
  {
   "cell_type": "code",
   "execution_count": 15,
   "metadata": {},
   "outputs": [
    {
     "name": "stdout",
     "output_type": "stream",
     "text": [
      "(81,)\n",
      "(81,)\n"
     ]
    }
   ],
   "source": [
    "#Compare shape of whole eventID column to shape of eventID column after removing repeated values.\n",
    "print(df_june_point['eventID'].shape)\n",
    "print(pd.unique(df_june_point['eventID']).shape)\n"
   ]
  },
  {
   "cell_type": "markdown",
   "metadata": {},
   "source": [
    "It looks like there are no repeat values in the eventID column of the per point table. Combined with the fact that the eventID values in the count data table correspond to eventID values in the  can use this as a key. Our join will use every row of the longer count data table only once, and but will duplicate rows of the shorter per point data table as necessary so that the number of rows match. Our final table will have the same number of rows as the per point table.\n",
    "\n",
    "The next question is what kind of join we want; this determines how the join algorithm deals with rows in one table that lack a matching row in the other. If we perform an **Inner Join**, any rows from either table that lack a match in the other will be left out of the final table; if all but three rows of the longer table have matching rows in the shorter table, then final table will have three rows fewer than the longer parent table."
   ]
  },
  {
   "cell_type": "markdown",
   "metadata": {},
   "source": [
    "![Inner Join Diagram](https://d33wubrfki0l68.cloudfront.net/3abea0b730526c3f053a3838953c35a0ccbe8980/7f29b/diagrams/join-inner.png)"
   ]
  },
  {
   "cell_type": "markdown",
   "metadata": {},
   "source": [
    "If we instead perform an **Outer Join**, then rows that lack a match will be allowed to stay in the final table; the added columns will be \"padded\" with NA values in the output table. If we only keep unmatched row from the left table it is a *Left Outer Join* or **Left Join**; if we only keep unmatched rows from the right table it is a *Right Outer Join* or **Right Join**; and if we keep unmatched rows from both tables it is a *Full Outer Join* or **Full Join**."
   ]
  },
  {
   "cell_type": "markdown",
   "metadata": {},
   "source": [
    "![Outer Join Diagram](https://d33wubrfki0l68.cloudfront.net/9c12ca9e12ed26a7c5d2aa08e36d2ac4fb593f1e/79980/diagrams/join-outer.png)"
   ]
  },
  {
   "cell_type": "markdown",
   "metadata": {},
   "source": [
    "In this example we will do an inner join, as we don't want any rows with missing data. The final table will have the same number of rows as the count data table, the longer table, minus any rows that didn't have a match in the point data table.\n",
    "\n",
    "\n",
    "The next question is which columns from each table we want to include in the final table. The per point data table has quite a few columns that are related to columns in the count data table; bringing these along would add redundant data."
   ]
  },
  {
   "cell_type": "code",
   "execution_count": 16,
   "metadata": {},
   "outputs": [
    {
     "name": "stdout",
     "output_type": "stream",
     "text": [
      "uid                    object\n",
      "namedLocation          object\n",
      "domainID               object\n",
      "siteID                 object\n",
      "plotID                 object\n",
      "plotType               object\n",
      "pointID                object\n",
      "startDate              object\n",
      "eventID                object\n",
      "pointCountMinute        int64\n",
      "targetTaxaPresent      object\n",
      "taxonID                object\n",
      "scientificName         object\n",
      "taxonRank              object\n",
      "vernacularName         object\n",
      "observerDistance      float64\n",
      "detectionMethod        object\n",
      "visualConfirmation     object\n",
      "sexOrAge               object\n",
      "clusterSize           float64\n",
      "clusterCode            object\n",
      "identifiedBy           object\n",
      "dtype: object\n"
     ]
    }
   ],
   "source": [
    "#View columns of June count data table\n",
    "print(df_june_count.dtypes)"
   ]
  },
  {
   "cell_type": "code",
   "execution_count": 17,
   "metadata": {},
   "outputs": [
    {
     "data": {
      "text/plain": [
       "uid                            object\n",
       "namedLocation                  object\n",
       "domainID                       object\n",
       "siteID                         object\n",
       "plotID                         object\n",
       "plotType                       object\n",
       "pointID                        object\n",
       "nlcdClass                      object\n",
       "decimalLatitude               float64\n",
       "decimalLongitude              float64\n",
       "geodeticDatum                  object\n",
       "coordinateUncertainty         float64\n",
       "elevation                     float64\n",
       "elevationUncertainty          float64\n",
       "startDate                      object\n",
       "eventID                        object\n",
       "startCloudCoverPercentage       int64\n",
       "endCloudCoverPercentage         int64\n",
       "startRH                         int64\n",
       "endRH                           int64\n",
       "observedHabitat                object\n",
       "observedAirTemp                 int64\n",
       "kmPerHourObservedWindSpeed      int64\n",
       "laboratoryName                 object\n",
       "samplingProtocolVersion        object\n",
       "remarks                       float64\n",
       "measuredBy                     object\n",
       "dtype: object"
      ]
     },
     "execution_count": 17,
     "metadata": {},
     "output_type": "execute_result"
    }
   ],
   "source": [
    "#View columns of June per point data table\n",
    "df_june_point.dtypes"
   ]
  },
  {
   "cell_type": "markdown",
   "metadata": {},
   "source": [
    "The two dataframes share the columns 'namedLocation', 'domainID', 'siteID', 'plotID', 'plotType', 'pointID', 'startDate', and 'eventID'. Both tables also have a 'uid' column, but these are just values used to index each row in a table; the 'uid' values in the count data table are not related to the 'uid' values in the point data table.\n",
    "\n",
    "Our merge will bring over values from all of the point data table column that aren't already present in the point data table. We also won't bring over 'uid' values from the point data table; these would not be of any use in the merged table.\n",
    "\n"
   ]
  },
  {
   "cell_type": "code",
   "execution_count": 18,
   "metadata": {},
   "outputs": [
    {
     "name": "stdout",
     "output_type": "stream",
     "text": [
      "['nlcdClass', 'decimalLatitude', 'decimalLongitude', 'geodeticDatum', 'coordinateUncertainty', 'elevation', 'elevationUncertainty', 'startCloudCoverPercentage', 'endCloudCoverPercentage', 'startRH', 'endRH', 'observedHabitat', 'observedAirTemp', 'kmPerHourObservedWindSpeed', 'laboratoryName', 'samplingProtocolVersion', 'remarks', 'measuredBy', 'eventID']\n"
     ]
    }
   ],
   "source": [
    "#Create a list of columns to keep; columns only present in the point data, plus eventID\n",
    "good_columns = []\n",
    "for column in df_june_point:\n",
    "    if(column not in df_june_count.columns):\n",
    "        good_columns.append(column)\n",
    "        \n",
    "good_columns.append('eventID')\n",
    "print(good_columns)"
   ]
  },
  {
   "cell_type": "markdown",
   "metadata": {},
   "source": [
    "The Pandas package offers a couple of different methods for joining data frames. In this case we will use the **.merge** method of dataframes. This method is called on one 'left' dataframe, and is passed another 'right' dataframe, along with further parameters indicating how the join is to occur: *left_on* and *right_on* indicate the column from the left and right dataframes to be used as keys respectively, and the *how* parameter is given a string 'inner' (default), 'left', 'right', or 'full' that determines the type of join performed.\n",
    "\n",
    "You can read the Pandas documentation for *pandas.Dataframe.merge* [here](https://pandas.pydata.org/pandas-docs/stable/reference/api/pandas.DataFrame.merge.html) (pandas.pydata.org). Pandas also offers a *.join* method for the same purpose; that method has fewer parameters, but assumes that the key column in the right table is that table's index.\n",
    "\n",
    "Now we make the join. First we will use the *.filter* method and the list we prepared to get a version of the point data table that only contains the desired columns. Then we call *.merge* on the count data, and pass the prepared data table."
   ]
  },
  {
   "cell_type": "code",
   "execution_count": 19,
   "metadata": {},
   "outputs": [],
   "source": [
    "#Prepare point dataframe for joining by extracting the desired columns\n",
    "df_right = df_june_point.filter(items = good_columns, axis = 1)"
   ]
  },
  {
   "cell_type": "code",
   "execution_count": 20,
   "metadata": {
    "scrolled": true
   },
   "outputs": [
    {
     "name": "stdout",
     "output_type": "stream",
     "text": [
      "Index(['uid', 'namedLocation', 'domainID', 'siteID', 'plotID', 'plotType',\n",
      "       'pointID', 'startDate', 'eventID', 'pointCountMinute',\n",
      "       'targetTaxaPresent', 'taxonID', 'scientificName', 'taxonRank',\n",
      "       'vernacularName', 'observerDistance', 'detectionMethod',\n",
      "       'visualConfirmation', 'sexOrAge', 'clusterSize', 'clusterCode',\n",
      "       'identifiedBy', 'nlcdClass', 'decimalLatitude', 'decimalLongitude',\n",
      "       'geodeticDatum', 'coordinateUncertainty', 'elevation',\n",
      "       'elevationUncertainty', 'startCloudCoverPercentage',\n",
      "       'endCloudCoverPercentage', 'startRH', 'endRH', 'observedHabitat',\n",
      "       'observedAirTemp', 'kmPerHourObservedWindSpeed', 'laboratoryName',\n",
      "       'samplingProtocolVersion', 'remarks', 'measuredBy'],\n",
      "      dtype='object')\n"
     ]
    }
   ],
   "source": [
    "#Join data frames\n",
    "df_joined = df_june_count.merge(df_right, how = 'inner', left_on = 'eventID', right_on = 'eventID')\n",
    "print(df_joined.columns)"
   ]
  },
  {
   "cell_type": "markdown",
   "metadata": {},
   "source": [
    "Finally, let's check the shape of the joined data table against the original count data table."
   ]
  },
  {
   "cell_type": "code",
   "execution_count": 21,
   "metadata": {},
   "outputs": [
    {
     "name": "stdout",
     "output_type": "stream",
     "text": [
      "(1484, 22)\n",
      "(1484, 40)\n"
     ]
    }
   ],
   "source": [
    "print(df_june_count.shape)\n",
    "print(df_joined.shape)"
   ]
  },
  {
   "cell_type": "markdown",
   "metadata": {},
   "source": [
    "The number of rows is the same in each, so it appears that every entry in the count data was successfully mapped to an entry in the point data.\n",
    "\n",
    "Finally, let's take a look at the new joined data.frame to check our work."
   ]
  },
  {
   "cell_type": "code",
   "execution_count": 23,
   "metadata": {},
   "outputs": [
    {
     "data": {
      "text/html": [
       "<div>\n",
       "<style scoped>\n",
       "    .dataframe tbody tr th:only-of-type {\n",
       "        vertical-align: middle;\n",
       "    }\n",
       "\n",
       "    .dataframe tbody tr th {\n",
       "        vertical-align: top;\n",
       "    }\n",
       "\n",
       "    .dataframe thead th {\n",
       "        text-align: right;\n",
       "    }\n",
       "</style>\n",
       "<table border=\"1\" class=\"dataframe\">\n",
       "  <thead>\n",
       "    <tr style=\"text-align: right;\">\n",
       "      <th></th>\n",
       "      <th>uid</th>\n",
       "      <th>namedLocation</th>\n",
       "      <th>domainID</th>\n",
       "      <th>siteID</th>\n",
       "      <th>plotID</th>\n",
       "      <th>plotType</th>\n",
       "      <th>pointID</th>\n",
       "      <th>startDate</th>\n",
       "      <th>eventID</th>\n",
       "      <th>pointCountMinute</th>\n",
       "      <th>targetTaxaPresent</th>\n",
       "      <th>taxonID</th>\n",
       "      <th>scientificName</th>\n",
       "      <th>taxonRank</th>\n",
       "      <th>vernacularName</th>\n",
       "      <th>observerDistance</th>\n",
       "      <th>detectionMethod</th>\n",
       "      <th>visualConfirmation</th>\n",
       "      <th>sexOrAge</th>\n",
       "      <th>clusterSize</th>\n",
       "      <th>clusterCode</th>\n",
       "      <th>identifiedBy</th>\n",
       "      <th>nlcdClass</th>\n",
       "      <th>decimalLatitude</th>\n",
       "      <th>decimalLongitude</th>\n",
       "      <th>geodeticDatum</th>\n",
       "      <th>coordinateUncertainty</th>\n",
       "      <th>elevation</th>\n",
       "      <th>elevationUncertainty</th>\n",
       "      <th>startCloudCoverPercentage</th>\n",
       "      <th>endCloudCoverPercentage</th>\n",
       "      <th>startRH</th>\n",
       "      <th>endRH</th>\n",
       "      <th>observedHabitat</th>\n",
       "      <th>observedAirTemp</th>\n",
       "      <th>kmPerHourObservedWindSpeed</th>\n",
       "      <th>laboratoryName</th>\n",
       "      <th>samplingProtocolVersion</th>\n",
       "      <th>remarks</th>\n",
       "      <th>measuredBy</th>\n",
       "    </tr>\n",
       "  </thead>\n",
       "  <tbody>\n",
       "    <tr>\n",
       "      <th>0</th>\n",
       "      <td>ddc3e9db-8d75-4447-8d29-4016cce4c3ee</td>\n",
       "      <td>TEAK_003.birdGrid.brd</td>\n",
       "      <td>D17</td>\n",
       "      <td>TEAK</td>\n",
       "      <td>TEAK_003</td>\n",
       "      <td>distributed</td>\n",
       "      <td>B3</td>\n",
       "      <td>2019-06-10T13Z</td>\n",
       "      <td>TEAK_003.B3.2019-06-10T05:45-07:00[US/Pacific]</td>\n",
       "      <td>5</td>\n",
       "      <td>Y</td>\n",
       "      <td>FOSP</td>\n",
       "      <td>Passerella iliaca</td>\n",
       "      <td>species</td>\n",
       "      <td>Fox Sparrow</td>\n",
       "      <td>108.0</td>\n",
       "      <td>singing</td>\n",
       "      <td>No</td>\n",
       "      <td>Unknown</td>\n",
       "      <td>1.0</td>\n",
       "      <td>NaN</td>\n",
       "      <td>JTIET</td>\n",
       "      <td>evergreenForest</td>\n",
       "      <td>37.012747</td>\n",
       "      <td>-119.009359</td>\n",
       "      <td>WGS84</td>\n",
       "      <td>250.6</td>\n",
       "      <td>2190.7</td>\n",
       "      <td>1.1</td>\n",
       "      <td>40</td>\n",
       "      <td>50</td>\n",
       "      <td>79</td>\n",
       "      <td>76</td>\n",
       "      <td>evergreen forest</td>\n",
       "      <td>7</td>\n",
       "      <td>2</td>\n",
       "      <td>Bird Conservancy of the Rockies</td>\n",
       "      <td>NEON.DOC.014041vJ</td>\n",
       "      <td>NaN</td>\n",
       "      <td>JTIET</td>\n",
       "    </tr>\n",
       "    <tr>\n",
       "      <th>1</th>\n",
       "      <td>c1b322de-c2a7-41a3-b9c6-fa5dff60f8d3</td>\n",
       "      <td>TEAK_003.birdGrid.brd</td>\n",
       "      <td>D17</td>\n",
       "      <td>TEAK</td>\n",
       "      <td>TEAK_003</td>\n",
       "      <td>distributed</td>\n",
       "      <td>B3</td>\n",
       "      <td>2019-06-10T13Z</td>\n",
       "      <td>TEAK_003.B3.2019-06-10T05:45-07:00[US/Pacific]</td>\n",
       "      <td>1</td>\n",
       "      <td>Y</td>\n",
       "      <td>GTTO</td>\n",
       "      <td>Pipilo chlorurus</td>\n",
       "      <td>species</td>\n",
       "      <td>Green-tailed Towhee</td>\n",
       "      <td>58.0</td>\n",
       "      <td>singing</td>\n",
       "      <td>No</td>\n",
       "      <td>Unknown</td>\n",
       "      <td>1.0</td>\n",
       "      <td>NaN</td>\n",
       "      <td>JTIET</td>\n",
       "      <td>evergreenForest</td>\n",
       "      <td>37.012747</td>\n",
       "      <td>-119.009359</td>\n",
       "      <td>WGS84</td>\n",
       "      <td>250.6</td>\n",
       "      <td>2190.7</td>\n",
       "      <td>1.1</td>\n",
       "      <td>40</td>\n",
       "      <td>50</td>\n",
       "      <td>79</td>\n",
       "      <td>76</td>\n",
       "      <td>evergreen forest</td>\n",
       "      <td>7</td>\n",
       "      <td>2</td>\n",
       "      <td>Bird Conservancy of the Rockies</td>\n",
       "      <td>NEON.DOC.014041vJ</td>\n",
       "      <td>NaN</td>\n",
       "      <td>JTIET</td>\n",
       "    </tr>\n",
       "    <tr>\n",
       "      <th>2</th>\n",
       "      <td>bbf5d4cb-6622-4f12-a062-5c83b24ce883</td>\n",
       "      <td>TEAK_003.birdGrid.brd</td>\n",
       "      <td>D17</td>\n",
       "      <td>TEAK</td>\n",
       "      <td>TEAK_003</td>\n",
       "      <td>distributed</td>\n",
       "      <td>B3</td>\n",
       "      <td>2019-06-10T13Z</td>\n",
       "      <td>TEAK_003.B3.2019-06-10T05:45-07:00[US/Pacific]</td>\n",
       "      <td>2</td>\n",
       "      <td>Y</td>\n",
       "      <td>HETH</td>\n",
       "      <td>Catharus guttatus</td>\n",
       "      <td>species</td>\n",
       "      <td>Hermit Thrush</td>\n",
       "      <td>166.0</td>\n",
       "      <td>singing</td>\n",
       "      <td>No</td>\n",
       "      <td>Unknown</td>\n",
       "      <td>1.0</td>\n",
       "      <td>NaN</td>\n",
       "      <td>JTIET</td>\n",
       "      <td>evergreenForest</td>\n",
       "      <td>37.012747</td>\n",
       "      <td>-119.009359</td>\n",
       "      <td>WGS84</td>\n",
       "      <td>250.6</td>\n",
       "      <td>2190.7</td>\n",
       "      <td>1.1</td>\n",
       "      <td>40</td>\n",
       "      <td>50</td>\n",
       "      <td>79</td>\n",
       "      <td>76</td>\n",
       "      <td>evergreen forest</td>\n",
       "      <td>7</td>\n",
       "      <td>2</td>\n",
       "      <td>Bird Conservancy of the Rockies</td>\n",
       "      <td>NEON.DOC.014041vJ</td>\n",
       "      <td>NaN</td>\n",
       "      <td>JTIET</td>\n",
       "    </tr>\n",
       "  </tbody>\n",
       "</table>\n",
       "</div>"
      ],
      "text/plain": [
       "                                    uid          namedLocation domainID  \\\n",
       "0  ddc3e9db-8d75-4447-8d29-4016cce4c3ee  TEAK_003.birdGrid.brd      D17   \n",
       "1  c1b322de-c2a7-41a3-b9c6-fa5dff60f8d3  TEAK_003.birdGrid.brd      D17   \n",
       "2  bbf5d4cb-6622-4f12-a062-5c83b24ce883  TEAK_003.birdGrid.brd      D17   \n",
       "\n",
       "  siteID    plotID     plotType pointID       startDate  \\\n",
       "0   TEAK  TEAK_003  distributed      B3  2019-06-10T13Z   \n",
       "1   TEAK  TEAK_003  distributed      B3  2019-06-10T13Z   \n",
       "2   TEAK  TEAK_003  distributed      B3  2019-06-10T13Z   \n",
       "\n",
       "                                          eventID  pointCountMinute  \\\n",
       "0  TEAK_003.B3.2019-06-10T05:45-07:00[US/Pacific]                 5   \n",
       "1  TEAK_003.B3.2019-06-10T05:45-07:00[US/Pacific]                 1   \n",
       "2  TEAK_003.B3.2019-06-10T05:45-07:00[US/Pacific]                 2   \n",
       "\n",
       "  targetTaxaPresent taxonID     scientificName taxonRank       vernacularName  \\\n",
       "0                 Y    FOSP  Passerella iliaca   species          Fox Sparrow   \n",
       "1                 Y    GTTO   Pipilo chlorurus   species  Green-tailed Towhee   \n",
       "2                 Y    HETH  Catharus guttatus   species        Hermit Thrush   \n",
       "\n",
       "   observerDistance detectionMethod visualConfirmation sexOrAge  clusterSize  \\\n",
       "0             108.0         singing                 No  Unknown          1.0   \n",
       "1              58.0         singing                 No  Unknown          1.0   \n",
       "2             166.0         singing                 No  Unknown          1.0   \n",
       "\n",
       "  clusterCode identifiedBy        nlcdClass  decimalLatitude  \\\n",
       "0         NaN        JTIET  evergreenForest        37.012747   \n",
       "1         NaN        JTIET  evergreenForest        37.012747   \n",
       "2         NaN        JTIET  evergreenForest        37.012747   \n",
       "\n",
       "   decimalLongitude geodeticDatum  coordinateUncertainty  elevation  \\\n",
       "0       -119.009359         WGS84                  250.6     2190.7   \n",
       "1       -119.009359         WGS84                  250.6     2190.7   \n",
       "2       -119.009359         WGS84                  250.6     2190.7   \n",
       "\n",
       "   elevationUncertainty  startCloudCoverPercentage  endCloudCoverPercentage  \\\n",
       "0                   1.1                         40                       50   \n",
       "1                   1.1                         40                       50   \n",
       "2                   1.1                         40                       50   \n",
       "\n",
       "   startRH  endRH   observedHabitat  observedAirTemp  \\\n",
       "0       79     76  evergreen forest                7   \n",
       "1       79     76  evergreen forest                7   \n",
       "2       79     76  evergreen forest                7   \n",
       "\n",
       "   kmPerHourObservedWindSpeed                   laboratoryName  \\\n",
       "0                           2  Bird Conservancy of the Rockies   \n",
       "1                           2  Bird Conservancy of the Rockies   \n",
       "2                           2  Bird Conservancy of the Rockies   \n",
       "\n",
       "  samplingProtocolVersion  remarks measuredBy  \n",
       "0       NEON.DOC.014041vJ      NaN      JTIET  \n",
       "1       NEON.DOC.014041vJ      NaN      JTIET  \n",
       "2       NEON.DOC.014041vJ      NaN      JTIET  "
      ]
     },
     "execution_count": 23,
     "metadata": {},
     "output_type": "execute_result"
    }
   ],
   "source": [
    "pd.set_option('max_columns', 40) #show all columns\n",
    "df_joined.head(3)"
   ]
  },
  {
   "cell_type": "markdown",
   "metadata": {},
   "source": [
    "We see that now every individual bird observation is listed with the associated location and observation conditions; just as we wanted.\n",
    "\n",
    "If you want to learn more about this subject, the Pandas package's official site offers an in-depth [discussion](https://pandas.pydata.org/pandas-docs/stable/user_guide/merging.html) (pandas.pydata.org) of using *concat*, *join*, *merge*, and other functions to combine data frames."
   ]
  },
  {
   "cell_type": "code",
   "execution_count": null,
   "metadata": {},
   "outputs": [],
   "source": []
  }
 ],
 "metadata": {
  "kernelspec": {
   "display_name": "Python 3",
   "language": "python",
   "name": "python3"
  },
  "language_info": {
   "codemirror_mode": {
    "name": "ipython",
    "version": 3
   },
   "file_extension": ".py",
   "mimetype": "text/x-python",
   "name": "python",
   "nbconvert_exporter": "python",
   "pygments_lexer": "ipython3",
   "version": "3.8.2"
  }
 },
 "nbformat": 4,
 "nbformat_minor": 4
}
