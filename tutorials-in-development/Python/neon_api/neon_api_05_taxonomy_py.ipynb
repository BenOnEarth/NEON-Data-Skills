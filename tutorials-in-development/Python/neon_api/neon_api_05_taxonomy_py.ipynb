{
 "cells": [
  {
   "cell_type": "markdown",
   "metadata": {},
   "source": [
    "---\n",
    "syncID: \n",
    "title: \"Querying Taxonomy Data with NEON API and Python\"\n",
    "description: \"Querying the 'taxonomy/' NEON API endpoint with Python and navigating the response\"\n",
    "dateCreated: 2020-04-24\n",
    "authors: Maxwell J. Burner\n",
    "contributors: \n",
    "estimatedTime:\n",
    "packagesLibraries: requests, json, pandas\n",
    "topics: api\n",
    "languagesTool: python\n",
    "dataProduct:\n",
    "code1: \n",
    "tutorialSeries: python-neon-api-series\n",
    "urlTitle: neon_api_taxonomy\n",
    "---"
   ]
  },
  {
   "cell_type": "markdown",
   "metadata": {},
   "source": [
    "In this tutorial we will learn to query the *taxonomy/* endpoint of the NEON API using Python."
   ]
  },
  {
   "cell_type": "markdown",
   "metadata": {},
   "source": [
    "<div id=\"ds-objectives\" markdown=\"1\">\n",
    "\n",
    "### Objectives\n",
    "After completing this tutorial, you will be able to:\n",
    "\n",
    "* Query the taxonomy endpoint of the NEON API to obtain taxonomic data\n",
    "* Search NEON taxonomic data using different criteria\n",
    "* Use the various options of the taxonomy endpoint to customized the results of a call\n",
    "* Navigate the data returned by a call to the taxonomy endpoint of the NEON API\n",
    "* Navigate the parent-child relationships between NEON locations\n",
    "\n",
    "\n",
    "### Install Python Packages\n",
    "\n",
    "* **requests**\n",
    "* **json** \n",
    "* **pandas**\n",
    "\n",
    "\n",
    "\n",
    "</div>"
   ]
  },
  {
   "cell_type": "markdown",
   "metadata": {},
   "source": [
    "In this tutorial we will learn to use Python and the *taxonomy/* endpoint of the NEON API to query information from NEON's taxonomic data. \n",
    "\n",
    "NEON maintains a great deal of taxonomic data, used in species identification during field research. NEON taxonomy data can be obtained through the API, or through an interactive interface called the [Taxon Viewer](http://data.neonscience.org/static/taxon.html). Just as the *locations/* endpoint can provide more context for a location referenced in NEON studies, the *taxonomy/* endpoint can provide additional information on species identified in NEON observational data.\n",
    "\n",
    "\n"
   ]
  },
  {
   "cell_type": "markdown",
   "metadata": {},
   "source": [
    "## Making the Request\n",
    "\n",
    "Unlike other endpoints, the *locations/* endpoint does not take a single target in its URL. Instead, the query can make use of a number of different options, which are named and assigend values in the url. Each option is assigned a value with an equals, for example 'family=Pineceae'; these are placed after a '?' at the end of the URL, linked to each other by '&' signs.\n",
    "\n",
    "Each call must have one of the following options, but cannot use multiple:\n",
    "* **taxonTypeCode**, a four-letter that indicates which NEON taxonomy is being queried, such as FISH or BIRD\n",
    "* One of the major taxonomic ranks from genus through kingdom\n",
    "* **scientificName** a specific name of format genus + specific epithet + (authority); this is used to search for one exact results\n",
    "\n",
    "In addition, any number of the following options can also be added to modify the results of the query:\n",
    "* **verbose** takes a 'true' for a more detailed response or 'false' for a shorter response\n",
    "* **offset** takes an integer indicating the number of starting rows of the list of results to skip; the default is 50\n",
    "* **limit** takes an integer indicating the maximum length of the list returned; the default is 50\n",
    "\n",
    "Let's request data on up to 20 members of the Pine family, skipping none, with the short response."
   ]
  },
  {
   "cell_type": "code",
   "execution_count": 43,
   "metadata": {},
   "outputs": [],
   "source": [
    "import requests\n",
    "import json"
   ]
  },
  {
   "cell_type": "code",
   "execution_count": 44,
   "metadata": {},
   "outputs": [],
   "source": [
    "#Choose values for each option\n",
    "SERVER = 'http://data.neonscience.org/api/v0/'\n",
    "FAMILY = 'Pinaceae'\n",
    "OFFSET = 0\n",
    "LIMIT = 20\n",
    "VERBOSE = 'false'"
   ]
  },
  {
   "cell_type": "code",
   "execution_count": 45,
   "metadata": {},
   "outputs": [
    {
     "name": "stdout",
     "output_type": "stream",
     "text": [
      "?family=Pinaceae&offset=0&limit=20&verbose=false\n"
     ]
    }
   ],
   "source": [
    "#Create 'options' portion of API call\n",
    "OPTIONS = '?family={family}&offset={offset}&limit={limit}&verbose={verbose}'.format(\n",
    "    family = FAMILY,\n",
    "    offset = OFFSET,\n",
    "    limit = LIMIT,\n",
    "    verbose = VERBOSE)\n",
    "\n",
    "#Print out the completed options string. This is what comes after the endpoint in the taxonomy API call\n",
    "print(OPTIONS)"
   ]
  },
  {
   "cell_type": "code",
   "execution_count": 46,
   "metadata": {},
   "outputs": [],
   "source": [
    "#Make request\n",
    "pine_req = requests.get(SERVER+'taxonomy/'+OPTIONS)\n",
    "pine_json = pine_req.json()"
   ]
  },
  {
   "cell_type": "markdown",
   "metadata": {},
   "source": [
    "## Navigating the Response"
   ]
  },
  {
   "cell_type": "markdown",
   "metadata": {},
   "source": [
    "Unlike most API call responses, the taxonomy JSON at the uppermost level has more elements that just 'data'. The other elements include information on how many species entry were returned, and how many species entries could have been returned (if offset was zero and limit was infinity). \n",
    "\n",
    "It also includes the API url that could get the 'previous' set of entries (if offset was not zero) matching the parameters other than offset and limit, and of the same number as this set; and the API url that could get the next set of entries (if limit was not infinity, and the limit parameter resulted in some entries being excluded). These urls could be used to effectively break up a larger API call into several segments; we ask for a smaller set than we actually want, then use the \"next\" url to get the next set of entries in a seperate call."
   ]
  },
  {
   "cell_type": "code",
   "execution_count": 47,
   "metadata": {},
   "outputs": [
    {
     "name": "stdout",
     "output_type": "stream",
     "text": [
      "count : 20\n",
      "total : 131\n",
      "prev : None\n",
      "next : https://data.neonscience.org/api/v0/taxonomy?family=Pinaceae&verbose=false&offset=20&limit=20\n"
     ]
    }
   ],
   "source": [
    "#Print out values in the top level of the pine_json, other than the 'data' entry.\n",
    "for key in pine_json.keys():\n",
    "    if(key != 'data'):\n",
    "        print(key,':',pine_json[key])"
   ]
  },
  {
   "cell_type": "markdown",
   "metadata": {},
   "source": [
    " Within the 'data' attribute is list with entries for each species returned by the call. Each species entry is a dictionary with atttributes for:\n",
    "\n",
    "- The full taxonomy, with a seperate attribute for each taxonomic level\n",
    "- The NEON taxonomy the data was obtained from (taxonTypeCode)\n",
    "- The short taxon code used by NEON (taxonID, acceptedTaxonID)\n",
    "- The author of the scientific name\n",
    "- The common/vernbacular name, if any\n",
    "- The reference text used (nameAccordingToID)"
   ]
  },
  {
   "cell_type": "code",
   "execution_count": 9,
   "metadata": {},
   "outputs": [
    {
     "name": "stdout",
     "output_type": "stream",
     "text": [
      "               taxonTypeCode:                  PLANT\n",
      "                     taxonID:                   ABFI\n",
      "             acceptedTaxonID:                   ABFI\n",
      "          dwc:scientificName:   Abies firma Siebold & Zucc.\n",
      "dwc:scientificNameAuthorship:        Siebold & Zucc.\n",
      "               dwc:taxonRank:                species\n",
      "          dwc:vernacularName:               Momi fir\n",
      "       dwc:nameAccordingToID:   http://plants.usda.gov (accessed 8/25/2014)\n",
      "                 dwc:kingdom:                Plantae\n",
      "                  dwc:phylum:          Coniferophyta\n",
      "                   dwc:class:              Pinopsida\n",
      "                   dwc:order:                Pinales\n",
      "                  dwc:family:               Pinaceae\n",
      "                   dwc:genus:                  Abies\n",
      "             gbif:subspecies:                   None\n",
      "                gbif:variety:                   None\n"
     ]
    }
   ],
   "source": [
    "#Print data for one species in the result\n",
    "sample = pine_json['data'][7]\n",
    "for key in sample.keys():\n",
    "    print(\"%28s:   %20s\" % (key, sample[key]))"
   ]
  },
  {
   "cell_type": "markdown",
   "metadata": {},
   "source": [
    "The \"dwc\" at the beginning of many atttribute names indicates that the terms used for each field are matched to those used by Darwin Core, an official standard maintained for biodiversity reference."
   ]
  },
  {
   "cell_type": "code",
   "execution_count": 10,
   "metadata": {},
   "outputs": [
    {
     "name": "stdout",
     "output_type": "stream",
     "text": [
      "silver fir | Abies alba Mill.\n",
      "Pacific silver fir | Abies amabilis (Douglas ex Loudon) Douglas ex Forbes\n",
      "balsam fir | Abies balsamea (L.) Mill.\n",
      "balsam fir | Abies balsamea (L.) Mill. var. balsamea\n",
      "balsam fir | Abies balsamea (L.) Mill. var. phanerolepis Fernald\n",
      "bristlecone fir | Abies bracteata (D. Don) D. Don ex Poit.\n",
      "white fir | Abies concolor (Gord. & Glend.) Lindl. ex Hildebr.\n",
      "Momi fir | Abies firma Siebold & Zucc.\n",
      "Fraser fir | Abies fraseri (Pursh) Poir.\n",
      "grand fir | Abies grandis (Douglas ex D. Don) Lindl.\n",
      "Nikko fir | Abies homolepis Siebold & Zucc.\n",
      "fir | Abies sp.\n",
      "fir | Abies spp.\n",
      "subalpine fir | Abies lasiocarpa (Hook.) Nutt.\n",
      "corkbark fir | Abies lasiocarpa (Hook.) Nutt. var. arizonica (Merriam) Lemmon\n",
      "subalpine fir | Abies lasiocarpa (Hook.) Nutt. var. lasiocarpa\n",
      "Sierra white fir | Abies lowiana (Gordon & Glend.) A. Murray bis\n",
      "California red fir | Abies magnifica A. Murray bis\n",
      "California red fir | Abies magnifica A. Murray bis var. magnifica\n",
      "Shasta red fir | Abies magnifica A. Murray bis var. shastensis Lemmon\n"
     ]
    }
   ],
   "source": [
    "#Print vernacular and species names\n",
    "for species in pine_json['data']:\n",
    "    print(species['dwc:vernacularName'],'|',species['dwc:scientificName'])"
   ]
  },
  {
   "cell_type": "markdown",
   "metadata": {},
   "source": [
    "## Using Taxon Type Code"
   ]
  },
  {
   "cell_type": "markdown",
   "metadata": {},
   "source": [
    "Let's try another, using taxonTypeCode this time. We'll look through some of the NEON Fish Taxonomy, but try the verbose description."
   ]
  },
  {
   "cell_type": "code",
   "execution_count": 11,
   "metadata": {},
   "outputs": [],
   "source": [
    "#Set options\n",
    "SERVER = 'http://data.neonscience.org/api/v0/'\n",
    "TAXONCODE = 'FISH'\n",
    "OFFSET = 0\n",
    "LIMIT = 20\n",
    "VERBOSE = 'true'"
   ]
  },
  {
   "cell_type": "code",
   "execution_count": 12,
   "metadata": {},
   "outputs": [
    {
     "name": "stdout",
     "output_type": "stream",
     "text": [
      "?taxonTypeCode=FISH&offset=0&limit=20&verbose=true\n"
     ]
    }
   ],
   "source": [
    "#Create 'options' portion of API call\n",
    "OPTIONS = '?taxonTypeCode={taxoncode}&offset={offset}&limit={limit}&verbose={verbose}'.format(\n",
    "    taxoncode = TAXONCODE,\n",
    "    offset = OFFSET,\n",
    "    limit = LIMIT,\n",
    "    verbose = VERBOSE)\n",
    "print(OPTIONS)"
   ]
  },
  {
   "cell_type": "code",
   "execution_count": 13,
   "metadata": {},
   "outputs": [],
   "source": [
    "#Make request\n",
    "fish_req = requests.get(SERVER+'taxonomy/'+OPTIONS)\n",
    "fish_json = fish_req.json()"
   ]
  },
  {
   "cell_type": "code",
   "execution_count": 14,
   "metadata": {},
   "outputs": [
    {
     "name": "stdout",
     "output_type": "stream",
     "text": [
      "               taxonTypeCode:                   FISH\n",
      "                     taxonID:                 ACHSPP\n",
      "             acceptedTaxonID:                 ACHSPP\n",
      "          dwc:scientificName:         Achiridae spp.\n",
      "dwc:scientificNameAuthorship:                   None\n",
      "               dwc:taxonRank:                 family\n",
      "          dwc:vernacularName:                   None\n",
      "       taxonProtocolCategory:                 target\n",
      "       dwc:nameAccordingToID:   http://www.itis.gov/ITISWebService/services/ITISService/getFullRecordFromTSN?tsn=202070 (accessed 08/31/2017)\n",
      "    dwc:nameAccordingToTitle:   The Integrated Taxonomic Information System on-line database http://www.itis.gov/ITISWebService/services/ITISService/getFullRecordFromTSN?tsn=202070, accessed 31 Aug 2017\n",
      "                 dwc:kingdom:               Animalia\n",
      "             gbif:subkingdom:                   None\n",
      "           gbif:infrakingdom:                   None\n",
      "          gbif:superdivision:                   None\n",
      "               gbif:division:                   None\n",
      "            gbif:subdivision:                   None\n",
      "          gbif:infradivision:                   None\n",
      "           gbif:parvdivision:                   None\n",
      "            gbif:superphylum:                   None\n",
      "                  dwc:phylum:               Chordata\n",
      "              gbif:subphylum:                   None\n",
      "            gbif:infraphylum:                   None\n",
      "             gbif:superclass:                   None\n",
      "                   dwc:class:         Actinopterygii\n",
      "               gbif:subclass:                   None\n",
      "             gbif:infraclass:                   None\n",
      "             gbif:superorder:                   None\n",
      "                   dwc:order:      Pleuronectiformes\n",
      "               gbif:suborder:                   None\n",
      "             gbif:infraorder:                   None\n",
      "                gbif:section:                   None\n",
      "             gbif:subsection:                   None\n",
      "            gbif:superfamily:                   None\n",
      "                  dwc:family:              Achiridae\n",
      "              gbif:subfamily:                   None\n",
      "                  gbif:tribe:                   None\n",
      "               gbif:subtribe:                   None\n",
      "                   dwc:genus:                   None\n",
      "                dwc:subgenus:                   None\n",
      "             gbif:subspecies:                   None\n",
      "                gbif:variety:                   None\n",
      "             gbif:subvariety:                   None\n",
      "                   gbif:form:                   None\n",
      "                gbif:subform:                   None\n",
      "                speciesGroup:                   None\n",
      "         dwc:specificEpithet:                   spp.\n",
      "    dwc:infraspecificEpithet:                   None\n"
     ]
    }
   ],
   "source": [
    "#Print data for one species in the result\n",
    "sample = fish_json['data'][7]\n",
    "for key in sample.keys():\n",
    "    print(\"%28s:   %20s\" % (key, sample[key]))"
   ]
  },
  {
   "cell_type": "markdown",
   "metadata": {},
   "source": [
    "This is a more verbose entry, so there are more attributes, though many lack values. The 'gbif' attributes indicate terms matched to those used by the Global Biodiversity Forum."
   ]
  },
  {
   "cell_type": "code",
   "execution_count": 15,
   "metadata": {},
   "outputs": [
    {
     "name": "stdout",
     "output_type": "stream",
     "text": [
      "None | Acanthogobius flavimanus\n",
      "None | Acantharchus pomotis\n",
      "None | Acantharchus sp.\n",
      "None | Acanthogobius sp.\n",
      "None | Acantharchus spp.\n",
      "None | Acanthogobius spp.\n",
      "None | Achiridae sp.\n",
      "None | Achiridae spp.\n",
      "None | Acipenser brevirostrum\n",
      "None | Acipenser fulvescens\n",
      "None | Acipenser medirostris\n",
      "None | Acipenser oxyrinchus\n",
      "Gulf Sturgeon | Acipenser oxyrinchus desotoi\n",
      "Atlantic sturgeon | Acipenser oxyrinchus oxyrinchus\n",
      "Gulf Sturgeon | Acipenser oxyrhynchus desotoi\n",
      "None | Acipenser oxyrhynchus\n",
      "None | Acipenser sp.\n",
      "None | Acipenseridae sp.\n",
      "None | Acipenseriformes sp.\n",
      "None | Acipenser spp.\n"
     ]
    }
   ],
   "source": [
    "#Print common and scientific name for each fish\n",
    "for species in fish_json['data']:\n",
    "    print(species['dwc:vernacularName'],'|', species['dwc:scientificName'])"
   ]
  },
  {
   "cell_type": "markdown",
   "metadata": {},
   "source": [
    "## Finding a Specific Species\n",
    "\n",
    "Many NEON data products, such as the land bird breeding counts used earlier, include species idetnification data in the form of species name. We can use the NEON *taxonomy/* endpoint to search for a specific species mentioned in a NEON study. Let's look at the 2018-06 Lower Teakettle Bird Counts again, and get more detail on one of the observed species."
   ]
  },
  {
   "cell_type": "code",
   "execution_count": 16,
   "metadata": {},
   "outputs": [],
   "source": [
    "import pandas as pd"
   ]
  },
  {
   "cell_type": "code",
   "execution_count": 17,
   "metadata": {},
   "outputs": [],
   "source": [
    "#Establish target for API search\n",
    "SITECODE = 'TEAK'\n",
    "PRODUCTCODE = 'DP1.10003.001'"
   ]
  },
  {
   "cell_type": "code",
   "execution_count": 18,
   "metadata": {},
   "outputs": [],
   "source": [
    "#Get data on available files\n",
    "bird_request = requests.get(SERVER+'data/'+PRODUCTCODE+'/'+SITECODE+'/'+'2018-06')\n",
    "bird_json = bird_request.json()"
   ]
  },
  {
   "cell_type": "code",
   "execution_count": 38,
   "metadata": {},
   "outputs": [],
   "source": [
    "#Get url for basic count data\n",
    "for file in bird_json['data']['files']:\n",
    "    if('count' in file['name']):\n",
    "        if('basic' in file['name']):\n",
    "            bird_df = pd.read_csv(file['url'])"
   ]
  },
  {
   "cell_type": "code",
   "execution_count": 39,
   "metadata": {},
   "outputs": [
    {
     "data": {
      "text/plain": [
       "Index(['uid', 'namedLocation', 'domainID', 'siteID', 'plotID', 'plotType',\n",
       "       'pointID', 'startDate', 'eventID', 'pointCountMinute',\n",
       "       'targetTaxaPresent', 'taxonID', 'scientificName', 'taxonRank',\n",
       "       'vernacularName', 'observerDistance', 'detectionMethod',\n",
       "       'visualConfirmation', 'sexOrAge', 'clusterSize', 'clusterCode',\n",
       "       'identifiedBy'],\n",
       "      dtype='object')"
      ]
     },
     "execution_count": 39,
     "metadata": {},
     "output_type": "execute_result"
    }
   ],
   "source": [
    "#View columns\n",
    "bird_df.columns"
   ]
  },
  {
   "cell_type": "markdown",
   "metadata": {},
   "source": [
    "The *unique* method for pandas series, which include individual columns of dataframes, returns the series with all duplicate values removed."
   ]
  },
  {
   "cell_type": "code",
   "execution_count": 40,
   "metadata": {},
   "outputs": [
    {
     "data": {
      "text/plain": [
       "array(['Setophaga coronata', 'Regulus satrapa', 'Empidonax oberholseri',\n",
       "       'Piranga ludoviciana', 'Picoides albolarvatus', 'Junco hyemalis',\n",
       "       'Geothlypis tolmiei', 'Turdus migratorius', 'Poecile gambeli',\n",
       "       'Pipilo chlorurus', 'Empidonax hammondii', 'Sitta canadensis',\n",
       "       'Passerella iliaca', 'Corvus corax', 'Spinus pinus',\n",
       "       'Vireo cassinii', 'Cyanocitta stelleri', 'Catharus guttatus',\n",
       "       'Melospiza lincolnii', 'Certhia americana', 'Picidae sp.',\n",
       "       'Parulidae sp.', 'Aves sp.', 'Oreortyx pictus',\n",
       "       'Setophaga occidentalis', 'Oreothlypis ruficapilla',\n",
       "       'Spizella passerina', 'Haemorhous cassinii', 'Picoides villosus',\n",
       "       'Sitta carolinensis', 'Sphyrapicus ruber',\n",
       "       'Setophaga coronata auduboni', 'Contopus cooperi',\n",
       "       'Cardellina pusilla', 'Haemorhous purpureus', 'Empidonax sp.', nan,\n",
       "       'Spizella pusilla', 'Buteo sp.', 'Passerina amoena',\n",
       "       'Myadestes townsendi', 'Vireo gilvus', 'Agelaius phoeniceus',\n",
       "       'Dryocopus pileatus', 'Sphyrapicus thyroideus', 'Pipilo maculatus',\n",
       "       'Molothrus ater', 'Troglodytes aedon', 'Oreothlypis celata',\n",
       "       'Picoides arcticus', 'Calypte anna', 'Setophaga petechia',\n",
       "       'Sphyrapicus sp.', 'Sialia sialis', 'Contopus sordidulus',\n",
       "       'Coccothraustes vespertinus', 'Buteo jamaicensis',\n",
       "       'Nucifraga columbiana', 'Sialia currucoides', 'Sialia mexicana'],\n",
       "      dtype=object)"
      ]
     },
     "execution_count": 40,
     "metadata": {},
     "output_type": "execute_result"
    }
   ],
   "source": [
    "#Use pandas .unique method to see what species were observed\n",
    "bird_df['scientificName'].unique()"
   ]
  },
  {
   "cell_type": "markdown",
   "metadata": {},
   "source": [
    "More information on 'Troglodytes aedon' would be interesting. When using a scientific name in a taxonomy API call, we replace any spaces in the name with '%20'; also, remember to capitalize the genus name, but not the species name."
   ]
  },
  {
   "cell_type": "code",
   "execution_count": 41,
   "metadata": {},
   "outputs": [],
   "source": [
    "#Make request \n",
    "aedon_request = requests.get(SERVER+'taxonomy/'+'?scientificname=Troglodytes%20aedon')\n",
    "aedon_json = aedon_request.json()"
   ]
  },
  {
   "cell_type": "markdown",
   "metadata": {},
   "source": [
    "Because only a single result was returned, count and total entries will be one, and there will be no urls for the previous or next batch of entries.\n",
    "\n",
    "It is important to note that the data element is still treated as a list; it is simply a list with only one element."
   ]
  },
  {
   "cell_type": "code",
   "execution_count": 42,
   "metadata": {},
   "outputs": [
    {
     "name": "stdout",
     "output_type": "stream",
     "text": [
      "count : 1\n",
      "total : 1\n",
      "prev : None\n",
      "next : None\n",
      "\n",
      "taxonTypeCode : BIRD\n",
      "taxonID : HOWR\n",
      "acceptedTaxonID : HOWR\n",
      "dwc:scientificName : Troglodytes aedon\n",
      "dwc:scientificNameAuthorship : Vieillot\n",
      "dwc:taxonRank : species\n",
      "dwc:vernacularName : House Wren\n",
      "dwc:nameAccordingToID : doi: 10.1642/AUK-15-73.1\n",
      "dwc:kingdom : Animalia\n",
      "dwc:phylum : Chordata\n",
      "dwc:class : Aves\n",
      "dwc:order : Passeriformes\n",
      "dwc:family : Troglodytidae\n",
      "dwc:genus : Troglodytes\n",
      "gbif:subspecies : None\n",
      "gbif:variety : None\n"
     ]
    }
   ],
   "source": [
    "#Print elements of JSON other than data\n",
    "for key in aedon_json.keys():\n",
    "    if(key != 'data'):\n",
    "        print(key,':',aedon_json[key])\n",
    "print()\n",
    "\n",
    "#Print elements of species dict in data list\n",
    "for key in aedon_json['data'][0].keys():\n",
    "    print(key,':',aedon_json['data'][0][key])"
   ]
  }
 ],
 "metadata": {
  "kernelspec": {
   "display_name": "Python 3",
   "language": "python",
   "name": "python3"
  },
  "language_info": {
   "codemirror_mode": {
    "name": "ipython",
    "version": 3
   },
   "file_extension": ".py",
   "mimetype": "text/x-python",
   "name": "python",
   "nbconvert_exporter": "python",
   "pygments_lexer": "ipython3",
   "version": "3.7.1"
  }
 },
 "nbformat": 4,
 "nbformat_minor": 4
}
