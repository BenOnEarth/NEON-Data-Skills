{
 "cells": [
  {
   "cell_type": "markdown",
   "metadata": {},
   "source": [
    "---\n",
    "syncID: \n",
    "title: \"Querying Location Data with NEON API and Python\"\n",
    "description: \"Querying the 'locations/' NEON API endpoint with Python and navigating the response\"\n",
    "dateCreated: 2020-04-24\n",
    "authors: Maxwell J. Burner\n",
    "contributors: \n",
    "estimatedTime:\n",
    "packagesLibraries: requests, json\n",
    "topics: api\n",
    "languagesTool: python\n",
    "dataProduct: DP1.10003.001\n",
    "code1: \n",
    "tutorialSeries: python-neon-api-series\n",
    "urlTitle: neon_api_04_locations\n",
    "---"
   ]
  },
  {
   "cell_type": "markdown",
   "metadata": {},
   "source": [
    "In this tutorial we will learn about querying the 'locations/' enpoint of the NEON API using Python."
   ]
  },
  {
   "cell_type": "markdown",
   "metadata": {},
   "source": [
    "<div id=\"ds-objectives\" markdown=\"1\">\n",
    "\n",
    "### Objectives\n",
    "After completing this tutorial, you will be able to:\n",
    "\n",
    "* Query the locations endpoint of the NEON API for data on specific NEON locations\n",
    "* Parse and navigate responses from the locations endpoint of the NEON API\n",
    "* Get spatial and geolocation data about NEON sites and plots\n",
    "* Navigate the parent-child relationships between NEON locations\n",
    "\n",
    "\n",
    "### Install Python Packages\n",
    "\n",
    "* **requests**\n",
    "* **json**\n",
    "* **pandas**\n",
    "\n",
    "\n",
    "\n",
    "</div>"
   ]
  },
  {
   "cell_type": "markdown",
   "metadata": {},
   "source": [
    "In this tutorial we will learn to use the *locations/* endpoint of the NEON API to get geoLocation information about NEON sites. While the previous tutorials all covered getting information from the *sites/*, *products/*, and *data/* endpoints, we will now begin exploring other endpoints of the NEON API.\n",
    "\n",
    "Looking through some of the data we obtained in previous tutorials, you might have noticed that references to location tend to be vaguel; location names and labels are used without any real geospatial information such as the coordinates or size of the location. For more detail, we can use the *locations/* endpoint of the NEON API to get spatial information on specific locations used in NEON studies."
   ]
  },
  {
   "cell_type": "markdown",
   "metadata": {},
   "source": [
    "## Get a Named Location\n",
    "\n",
    "The *locations/* endpoint is usually used to provide context to locations referenced in NEON data products. Let's start by looking at the bird count data for Lower Teakettle again. "
   ]
  },
  {
   "cell_type": "code",
   "execution_count": 10,
   "metadata": {},
   "outputs": [],
   "source": [
    "import requests\n",
    "import json\n",
    "import pandas as pd"
   ]
  },
  {
   "cell_type": "code",
   "execution_count": 11,
   "metadata": {},
   "outputs": [],
   "source": [
    "#Define API call componenets\n",
    "SERVER = 'http://data.neonscience.org/api/v0/'\n",
    "SITECODE = 'TEAK'\n",
    "PRODUCTCODE = 'DP1.10003.001'"
   ]
  },
  {
   "cell_type": "markdown",
   "metadata": {},
   "source": [
    "Again, let's get the basic bird count data for June 2018."
   ]
  },
  {
   "cell_type": "code",
   "execution_count": 12,
   "metadata": {},
   "outputs": [],
   "source": [
    "#Request data file list for 2018-04\n",
    "data_request = requests.get(SERVER+'data/'+PRODUCTCODE+'/'+SITECODE+'/'+'2018-06')\n",
    "data_json = data_request.json()"
   ]
  },
  {
   "cell_type": "code",
   "execution_count": 13,
   "metadata": {},
   "outputs": [
    {
     "name": "stdout",
     "output_type": "stream",
     "text": [
      "uid                    object\n",
      "namedLocation          object\n",
      "domainID               object\n",
      "siteID                 object\n",
      "plotID                 object\n",
      "plotType               object\n",
      "pointID                object\n",
      "startDate              object\n",
      "eventID                object\n",
      "pointCountMinute        int64\n",
      "targetTaxaPresent      object\n",
      "taxonID                object\n",
      "scientificName         object\n",
      "taxonRank              object\n",
      "vernacularName         object\n",
      "observerDistance      float64\n",
      "detectionMethod        object\n",
      "visualConfirmation     object\n",
      "sexOrAge               object\n",
      "clusterSize           float64\n",
      "clusterCode            object\n",
      "identifiedBy           object\n",
      "dtype: object\n"
     ]
    }
   ],
   "source": [
    "for file in data_json['data']['files']:\n",
    "    if('count' in file['name']):\n",
    "        if('basic' in file['name']):\n",
    "            bird_url = file['url']\n",
    "\n",
    "df_bird = pd.read_csv(bird_url)\n",
    "print(df_bird.dtypes)"
   ]
  },
  {
   "cell_type": "markdown",
   "metadata": {},
   "source": [
    "\n",
    "Notice the 'namedLocation' attribute/column in our dataframe. Let's look at some of the values."
   ]
  },
  {
   "cell_type": "code",
   "execution_count": 14,
   "metadata": {},
   "outputs": [
    {
     "data": {
      "text/plain": [
       "0    TEAK_010.birdGrid.brd\n",
       "1    TEAK_010.birdGrid.brd\n",
       "2    TEAK_010.birdGrid.brd\n",
       "3    TEAK_010.birdGrid.brd\n",
       "4    TEAK_010.birdGrid.brd\n",
       "Name: namedLocation, dtype: object"
      ]
     },
     "execution_count": 14,
     "metadata": {},
     "output_type": "execute_result"
    }
   ],
   "source": [
    "df_bird['namedLocation'][0:5]"
   ]
  },
  {
   "cell_type": "markdown",
   "metadata": {},
   "source": [
    "## Querying Locations\n",
    "\n",
    "We can query the location 'SJER_013.birdGrid.brd' using the *locations/* endpoint in the NEON API. This will allow us to obtain detailed geoSpatial data on that particular location."
   ]
  },
  {
   "cell_type": "code",
   "execution_count": 15,
   "metadata": {},
   "outputs": [],
   "source": [
    "loc_request = requests.get(SERVER+'locations/'+'TEAK_010.birdGrid.brd')\n",
    "loc_json = loc_request.json()"
   ]
  },
  {
   "cell_type": "code",
   "execution_count": 16,
   "metadata": {},
   "outputs": [
    {
     "name": "stdout",
     "output_type": "stream",
     "text": [
      "locationDescription\n",
      "locationName\n",
      "locationType\n",
      "domainCode\n",
      "siteCode\n",
      "locationDecimalLatitude\n",
      "locationDecimalLongitude\n",
      "locationElevation\n",
      "locationUtmEasting\n",
      "locationUtmNorthing\n",
      "locationUtmHemisphere\n",
      "locationUtmZone\n",
      "alphaOrientation\n",
      "betaOrientation\n",
      "gammaOrientation\n",
      "xOffset\n",
      "yOffset\n",
      "zOffset\n",
      "locationProperties\n",
      "locationParent\n",
      "locationParentUrl\n",
      "locationChildren\n",
      "locationChildrenUrls\n"
     ]
    }
   ],
   "source": [
    "#Let's look at the keys of the data dictionary\n",
    "for key in loc_json['data'].keys():\n",
    "    print(key)"
   ]
  },
  {
   "cell_type": "markdown",
   "metadata": {},
   "source": [
    "First off, the data includes some basic titles and categories for the location."
   ]
  },
  {
   "cell_type": "code",
   "execution_count": 17,
   "metadata": {},
   "outputs": [
    {
     "name": "stdout",
     "output_type": "stream",
     "text": [
      "Description:  Plot \"TEAK_010\" at site \"TEAK\"\n",
      "Name:  TEAK_010.birdGrid.brd\n",
      "Type:  OS Plot - brd\n",
      "Data:  D17\n"
     ]
    }
   ],
   "source": [
    "print('Description: ',loc_json['data']['locationDescription'])\n",
    "print('Name: ',loc_json['data']['locationName'])\n",
    "print('Type: ',loc_json['data']['locationType'])\n",
    "print('Data: ',loc_json['data']['domainCode'])"
   ]
  },
  {
   "cell_type": "markdown",
   "metadata": {},
   "source": [
    "The actual spatial location data includes latitude, longitude, elevation, and Universal Transverse Mercator (UTM) Coordinates."
   ]
  },
  {
   "cell_type": "code",
   "execution_count": 18,
   "metadata": {},
   "outputs": [
    {
     "name": "stdout",
     "output_type": "stream",
     "text": [
      "Latitude:  37.01395\n",
      "Longitude:  -119.049086\n",
      "Elevation:  2220.26\n",
      "UTM Easting:  317702.905270038\n",
      "UTM Northing:  4098382.78517289\n",
      "Hemisphere:  N\n",
      "UTM Zone:  11\n"
     ]
    }
   ],
   "source": [
    "print('Latitude: ',loc_json['data']['locationDecimalLatitude'])\n",
    "print('Longitude: ',loc_json['data']['locationDecimalLongitude'])\n",
    "print('Elevation: ',loc_json['data']['locationElevation'])\n",
    "print('UTM Easting: ',loc_json['data']['locationUtmEasting'])\n",
    "print('UTM Northing: ',loc_json['data']['locationUtmNorthing'])\n",
    "print('Hemisphere: ', loc_json['data']['locationUtmHemisphere'])\n",
    "print('UTM Zone: ', loc_json['data']['locationUtmZone'])"
   ]
  },
  {
   "cell_type": "markdown",
   "metadata": {},
   "source": [
    "Let's take a closer look at the 'location properties' section. This is a list of dictionaries, where each dict has one 'locationPropertyName' element and a corresponding 'locationPropertyValue' element. These together provide a more detailed description of the properties of the location."
   ]
  },
  {
   "cell_type": "code",
   "execution_count": 19,
   "metadata": {},
   "outputs": [
    {
     "name": "stdout",
     "output_type": "stream",
     "text": [
      " Coordinate source :  Geo 7X (H-Star)\n",
      " Coordinate uncertainty :  0.45\n",
      " Country :  unitedStates\n",
      " County :  Fresno\n",
      " Elevation uncertainty :  0.53\n",
      " Filtered positions :  404.0\n",
      " Geodetic datum :  WGS84\n",
      " Horizontal dilution of precision :  0.9\n",
      " Maximum elevation :  2221.09\n",
      " Minimum elevation :  2150.52\n",
      " National Land Cover Database (2001) :  evergreenForest\n",
      " Plot dimensions :  500m x 500m\n",
      " Plot ID :  TEAK_010\n",
      " Plot size :  250000.0\n",
      " Plot subtype :  birdGrid\n",
      " Plot type :  distributed\n",
      " Positional dilution of precision :  1.6\n",
      " Reference Point Position :  B2\n",
      " Slope aspect :  285.26\n",
      " Slope gradient :  5.43\n",
      " Soil type order :  Entisols\n",
      " State province :  CA\n",
      " Subtype Specification :  ninePoints\n",
      " UTM Zone :  11N\n"
     ]
    }
   ],
   "source": [
    "#Print location property names and values\n",
    "for locationProperty in loc_json['data']['locationProperties']:\n",
    "    print(locationProperty['locationPropertyName'][9:], #trim 'Value for ' off beginning of each name\n",
    "          ': ',locationProperty['locationPropertyValue'])"
   ]
  },
  {
   "cell_type": "markdown",
   "metadata": {},
   "source": [
    "Finally there's the name and URLs for the locations' parent location and children locations, if any. The parent location is a location of which the current location is a part, while the children locations are smaller areas of the current location; requesting data on the children locations through the *locations/* endpoint allows us to get spatial data on a finer resolution."
   ]
  },
  {
   "cell_type": "code",
   "execution_count": 20,
   "metadata": {},
   "outputs": [
    {
     "name": "stdout",
     "output_type": "stream",
     "text": [
      "TEAK https://data.neonscience.org/api/v0/locations/TEAK\n"
     ]
    }
   ],
   "source": [
    "#Print name and API url of parent location\n",
    "print(loc_json['data']['locationParent'], loc_json['data']['locationParentUrl'])"
   ]
  },
  {
   "cell_type": "code",
   "execution_count": 21,
   "metadata": {},
   "outputs": [
    {
     "name": "stdout",
     "output_type": "stream",
     "text": [
      "TEAK_010.birdGrid.brd.B2 https://data.neonscience.org/api/v0/locations/TEAK_010.birdGrid.brd.B2\n",
      "TEAK_010.birdGrid.brd.C3 https://data.neonscience.org/api/v0/locations/TEAK_010.birdGrid.brd.C3\n",
      "TEAK_010.birdGrid.brd.C2 https://data.neonscience.org/api/v0/locations/TEAK_010.birdGrid.brd.C2\n",
      "TEAK_010.birdGrid.brd.C1 https://data.neonscience.org/api/v0/locations/TEAK_010.birdGrid.brd.C1\n",
      "TEAK_010.birdGrid.brd.B3 https://data.neonscience.org/api/v0/locations/TEAK_010.birdGrid.brd.B3\n",
      "TEAK_010.birdGrid.brd.B1 https://data.neonscience.org/api/v0/locations/TEAK_010.birdGrid.brd.B1\n",
      "TEAK_010.birdGrid.brd.A1 https://data.neonscience.org/api/v0/locations/TEAK_010.birdGrid.brd.A1\n",
      "TEAK_010.birdGrid.brd.A2 https://data.neonscience.org/api/v0/locations/TEAK_010.birdGrid.brd.A2\n",
      "TEAK_010.birdGrid.brd.A3 https://data.neonscience.org/api/v0/locations/TEAK_010.birdGrid.brd.A3\n"
     ]
    }
   ],
   "source": [
    "#Print names and API urls of child locations\n",
    "for child in zip(loc_json['data']['locationChildren'], loc_json['data']['locationChildrenUrls']):\n",
    "    print(child[0], child[1])"
   ]
  }
 ],
 "metadata": {
  "kernelspec": {
   "display_name": "Python 3",
   "language": "python",
   "name": "python3"
  },
  "language_info": {
   "codemirror_mode": {
    "name": "ipython",
    "version": 3
   },
   "file_extension": ".py",
   "mimetype": "text/x-python",
   "name": "python",
   "nbconvert_exporter": "python",
   "pygments_lexer": "ipython3",
   "version": "3.8.2"
  }
 },
 "nbformat": 4,
 "nbformat_minor": 4
}
